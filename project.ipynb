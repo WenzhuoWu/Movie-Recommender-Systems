{
 "cells": [
  {
   "cell_type": "markdown",
   "id": "48a0559f",
   "metadata": {},
   "source": [
    "# Movie Recommender Systems"
   ]
  },
  {
   "cell_type": "code",
   "execution_count": 26,
   "id": "15a97563",
   "metadata": {},
   "outputs": [],
   "source": [
    "import pandas as pd\n",
    "import matplotlib.pyplot as plt\n",
    "import seaborn as sns\n",
    "%matplotlib inline"
   ]
  },
  {
   "cell_type": "markdown",
   "id": "0fb51e4f",
   "metadata": {},
   "source": [
    "### import dataset"
   ]
  },
  {
   "cell_type": "code",
   "execution_count": 217,
   "id": "347ff68d",
   "metadata": {},
   "outputs": [],
   "source": [
    "df_movies = pd.read_csv(\"movies.dat\", sep='::', engine='python', names = ['MovieID','Title','Genre'], encoding = \"ISO-8859-1\")\n",
    "df_ratings = pd.read_csv(\"ratings.dat\", sep='::', engine='python', names = ['UserID','MovieID','Rating','Timestamp'], encoding = \"ISO-8859-1\")\n",
    "df_users = pd.read_csv(\"users.dat\", sep='::', engine='python', names = ['UserID','Gender','Age','Occupation','Zip-code'], encoding = \"ISO-8859-1\")"
   ]
  },
  {
   "cell_type": "code",
   "execution_count": 4,
   "id": "5d4fea36",
   "metadata": {},
   "outputs": [
    {
     "data": {
      "text/html": [
       "<div>\n",
       "<style scoped>\n",
       "    .dataframe tbody tr th:only-of-type {\n",
       "        vertical-align: middle;\n",
       "    }\n",
       "\n",
       "    .dataframe tbody tr th {\n",
       "        vertical-align: top;\n",
       "    }\n",
       "\n",
       "    .dataframe thead th {\n",
       "        text-align: right;\n",
       "    }\n",
       "</style>\n",
       "<table border=\"1\" class=\"dataframe\">\n",
       "  <thead>\n",
       "    <tr style=\"text-align: right;\">\n",
       "      <th></th>\n",
       "      <th>MovieID</th>\n",
       "      <th>Title</th>\n",
       "      <th>Genre</th>\n",
       "    </tr>\n",
       "  </thead>\n",
       "  <tbody>\n",
       "    <tr>\n",
       "      <th>0</th>\n",
       "      <td>1</td>\n",
       "      <td>Toy Story (1995)</td>\n",
       "      <td>Animation|Children's|Comedy</td>\n",
       "    </tr>\n",
       "    <tr>\n",
       "      <th>1</th>\n",
       "      <td>2</td>\n",
       "      <td>Jumanji (1995)</td>\n",
       "      <td>Adventure|Children's|Fantasy</td>\n",
       "    </tr>\n",
       "    <tr>\n",
       "      <th>2</th>\n",
       "      <td>3</td>\n",
       "      <td>Grumpier Old Men (1995)</td>\n",
       "      <td>Comedy|Romance</td>\n",
       "    </tr>\n",
       "    <tr>\n",
       "      <th>3</th>\n",
       "      <td>4</td>\n",
       "      <td>Waiting to Exhale (1995)</td>\n",
       "      <td>Comedy|Drama</td>\n",
       "    </tr>\n",
       "    <tr>\n",
       "      <th>4</th>\n",
       "      <td>5</td>\n",
       "      <td>Father of the Bride Part II (1995)</td>\n",
       "      <td>Comedy</td>\n",
       "    </tr>\n",
       "  </tbody>\n",
       "</table>\n",
       "</div>"
      ],
      "text/plain": [
       "   MovieID                               Title                         Genre\n",
       "0        1                    Toy Story (1995)   Animation|Children's|Comedy\n",
       "1        2                      Jumanji (1995)  Adventure|Children's|Fantasy\n",
       "2        3             Grumpier Old Men (1995)                Comedy|Romance\n",
       "3        4            Waiting to Exhale (1995)                  Comedy|Drama\n",
       "4        5  Father of the Bride Part II (1995)                        Comedy"
      ]
     },
     "execution_count": 4,
     "metadata": {},
     "output_type": "execute_result"
    }
   ],
   "source": [
    "df_movies.head()"
   ]
  },
  {
   "cell_type": "code",
   "execution_count": 6,
   "id": "07cb3ad1",
   "metadata": {},
   "outputs": [
    {
     "data": {
      "text/html": [
       "<div>\n",
       "<style scoped>\n",
       "    .dataframe tbody tr th:only-of-type {\n",
       "        vertical-align: middle;\n",
       "    }\n",
       "\n",
       "    .dataframe tbody tr th {\n",
       "        vertical-align: top;\n",
       "    }\n",
       "\n",
       "    .dataframe thead th {\n",
       "        text-align: right;\n",
       "    }\n",
       "</style>\n",
       "<table border=\"1\" class=\"dataframe\">\n",
       "  <thead>\n",
       "    <tr style=\"text-align: right;\">\n",
       "      <th></th>\n",
       "      <th>UserID</th>\n",
       "      <th>MovieID</th>\n",
       "      <th>Rating</th>\n",
       "      <th>Timestamp</th>\n",
       "    </tr>\n",
       "  </thead>\n",
       "  <tbody>\n",
       "    <tr>\n",
       "      <th>0</th>\n",
       "      <td>1</td>\n",
       "      <td>1193</td>\n",
       "      <td>5</td>\n",
       "      <td>978300760</td>\n",
       "    </tr>\n",
       "    <tr>\n",
       "      <th>1</th>\n",
       "      <td>1</td>\n",
       "      <td>661</td>\n",
       "      <td>3</td>\n",
       "      <td>978302109</td>\n",
       "    </tr>\n",
       "    <tr>\n",
       "      <th>2</th>\n",
       "      <td>1</td>\n",
       "      <td>914</td>\n",
       "      <td>3</td>\n",
       "      <td>978301968</td>\n",
       "    </tr>\n",
       "    <tr>\n",
       "      <th>3</th>\n",
       "      <td>1</td>\n",
       "      <td>3408</td>\n",
       "      <td>4</td>\n",
       "      <td>978300275</td>\n",
       "    </tr>\n",
       "    <tr>\n",
       "      <th>4</th>\n",
       "      <td>1</td>\n",
       "      <td>2355</td>\n",
       "      <td>5</td>\n",
       "      <td>978824291</td>\n",
       "    </tr>\n",
       "  </tbody>\n",
       "</table>\n",
       "</div>"
      ],
      "text/plain": [
       "   UserID  MovieID  Rating  Timestamp\n",
       "0       1     1193       5  978300760\n",
       "1       1      661       3  978302109\n",
       "2       1      914       3  978301968\n",
       "3       1     3408       4  978300275\n",
       "4       1     2355       5  978824291"
      ]
     },
     "execution_count": 6,
     "metadata": {},
     "output_type": "execute_result"
    }
   ],
   "source": [
    "df_ratings.head()"
   ]
  },
  {
   "cell_type": "code",
   "execution_count": 7,
   "id": "41fd5e04",
   "metadata": {},
   "outputs": [
    {
     "data": {
      "text/html": [
       "<div>\n",
       "<style scoped>\n",
       "    .dataframe tbody tr th:only-of-type {\n",
       "        vertical-align: middle;\n",
       "    }\n",
       "\n",
       "    .dataframe tbody tr th {\n",
       "        vertical-align: top;\n",
       "    }\n",
       "\n",
       "    .dataframe thead th {\n",
       "        text-align: right;\n",
       "    }\n",
       "</style>\n",
       "<table border=\"1\" class=\"dataframe\">\n",
       "  <thead>\n",
       "    <tr style=\"text-align: right;\">\n",
       "      <th></th>\n",
       "      <th>UserID</th>\n",
       "      <th>Gender</th>\n",
       "      <th>Age</th>\n",
       "      <th>Occupation</th>\n",
       "      <th>Zip-code</th>\n",
       "    </tr>\n",
       "  </thead>\n",
       "  <tbody>\n",
       "    <tr>\n",
       "      <th>0</th>\n",
       "      <td>1</td>\n",
       "      <td>F</td>\n",
       "      <td>1</td>\n",
       "      <td>10</td>\n",
       "      <td>48067</td>\n",
       "    </tr>\n",
       "    <tr>\n",
       "      <th>1</th>\n",
       "      <td>2</td>\n",
       "      <td>M</td>\n",
       "      <td>56</td>\n",
       "      <td>16</td>\n",
       "      <td>70072</td>\n",
       "    </tr>\n",
       "    <tr>\n",
       "      <th>2</th>\n",
       "      <td>3</td>\n",
       "      <td>M</td>\n",
       "      <td>25</td>\n",
       "      <td>15</td>\n",
       "      <td>55117</td>\n",
       "    </tr>\n",
       "    <tr>\n",
       "      <th>3</th>\n",
       "      <td>4</td>\n",
       "      <td>M</td>\n",
       "      <td>45</td>\n",
       "      <td>7</td>\n",
       "      <td>02460</td>\n",
       "    </tr>\n",
       "    <tr>\n",
       "      <th>4</th>\n",
       "      <td>5</td>\n",
       "      <td>M</td>\n",
       "      <td>25</td>\n",
       "      <td>20</td>\n",
       "      <td>55455</td>\n",
       "    </tr>\n",
       "  </tbody>\n",
       "</table>\n",
       "</div>"
      ],
      "text/plain": [
       "   UserID Gender  Age  Occupation Zip-code\n",
       "0       1      F    1          10    48067\n",
       "1       2      M   56          16    70072\n",
       "2       3      M   25          15    55117\n",
       "3       4      M   45           7    02460\n",
       "4       5      M   25          20    55455"
      ]
     },
     "execution_count": 7,
     "metadata": {},
     "output_type": "execute_result"
    }
   ],
   "source": [
    "df_users.head()"
   ]
  },
  {
   "cell_type": "markdown",
   "id": "782fff1e",
   "metadata": {},
   "source": [
    "### Merge dataframe"
   ]
  },
  {
   "cell_type": "code",
   "execution_count": 10,
   "id": "feb717cb",
   "metadata": {},
   "outputs": [
    {
     "data": {
      "text/html": [
       "<div>\n",
       "<style scoped>\n",
       "    .dataframe tbody tr th:only-of-type {\n",
       "        vertical-align: middle;\n",
       "    }\n",
       "\n",
       "    .dataframe tbody tr th {\n",
       "        vertical-align: top;\n",
       "    }\n",
       "\n",
       "    .dataframe thead th {\n",
       "        text-align: right;\n",
       "    }\n",
       "</style>\n",
       "<table border=\"1\" class=\"dataframe\">\n",
       "  <thead>\n",
       "    <tr style=\"text-align: right;\">\n",
       "      <th></th>\n",
       "      <th>UserID</th>\n",
       "      <th>MovieID</th>\n",
       "      <th>Rating</th>\n",
       "      <th>Timestamp</th>\n",
       "      <th>Title</th>\n",
       "      <th>Genre</th>\n",
       "    </tr>\n",
       "  </thead>\n",
       "  <tbody>\n",
       "    <tr>\n",
       "      <th>0</th>\n",
       "      <td>1</td>\n",
       "      <td>1193</td>\n",
       "      <td>5</td>\n",
       "      <td>978300760</td>\n",
       "      <td>One Flew Over the Cuckoo's Nest (1975)</td>\n",
       "      <td>Drama</td>\n",
       "    </tr>\n",
       "    <tr>\n",
       "      <th>1</th>\n",
       "      <td>2</td>\n",
       "      <td>1193</td>\n",
       "      <td>5</td>\n",
       "      <td>978298413</td>\n",
       "      <td>One Flew Over the Cuckoo's Nest (1975)</td>\n",
       "      <td>Drama</td>\n",
       "    </tr>\n",
       "    <tr>\n",
       "      <th>2</th>\n",
       "      <td>12</td>\n",
       "      <td>1193</td>\n",
       "      <td>4</td>\n",
       "      <td>978220179</td>\n",
       "      <td>One Flew Over the Cuckoo's Nest (1975)</td>\n",
       "      <td>Drama</td>\n",
       "    </tr>\n",
       "    <tr>\n",
       "      <th>3</th>\n",
       "      <td>15</td>\n",
       "      <td>1193</td>\n",
       "      <td>4</td>\n",
       "      <td>978199279</td>\n",
       "      <td>One Flew Over the Cuckoo's Nest (1975)</td>\n",
       "      <td>Drama</td>\n",
       "    </tr>\n",
       "    <tr>\n",
       "      <th>4</th>\n",
       "      <td>17</td>\n",
       "      <td>1193</td>\n",
       "      <td>5</td>\n",
       "      <td>978158471</td>\n",
       "      <td>One Flew Over the Cuckoo's Nest (1975)</td>\n",
       "      <td>Drama</td>\n",
       "    </tr>\n",
       "  </tbody>\n",
       "</table>\n",
       "</div>"
      ],
      "text/plain": [
       "   UserID  MovieID  Rating  Timestamp                                   Title  \\\n",
       "0       1     1193       5  978300760  One Flew Over the Cuckoo's Nest (1975)   \n",
       "1       2     1193       5  978298413  One Flew Over the Cuckoo's Nest (1975)   \n",
       "2      12     1193       4  978220179  One Flew Over the Cuckoo's Nest (1975)   \n",
       "3      15     1193       4  978199279  One Flew Over the Cuckoo's Nest (1975)   \n",
       "4      17     1193       5  978158471  One Flew Over the Cuckoo's Nest (1975)   \n",
       "\n",
       "   Genre  \n",
       "0  Drama  \n",
       "1  Drama  \n",
       "2  Drama  \n",
       "3  Drama  \n",
       "4  Drama  "
      ]
     },
     "execution_count": 10,
     "metadata": {},
     "output_type": "execute_result"
    }
   ],
   "source": [
    "df_pre = df_ratings.merge(df_movies, left_on = 'MovieID', right_on = 'MovieID', how = 'inner')\n",
    "df_pre.head()"
   ]
  },
  {
   "cell_type": "code",
   "execution_count": 11,
   "id": "cd890e6e",
   "metadata": {},
   "outputs": [
    {
     "data": {
      "text/html": [
       "<div>\n",
       "<style scoped>\n",
       "    .dataframe tbody tr th:only-of-type {\n",
       "        vertical-align: middle;\n",
       "    }\n",
       "\n",
       "    .dataframe tbody tr th {\n",
       "        vertical-align: top;\n",
       "    }\n",
       "\n",
       "    .dataframe thead th {\n",
       "        text-align: right;\n",
       "    }\n",
       "</style>\n",
       "<table border=\"1\" class=\"dataframe\">\n",
       "  <thead>\n",
       "    <tr style=\"text-align: right;\">\n",
       "      <th></th>\n",
       "      <th>UserID</th>\n",
       "      <th>MovieID</th>\n",
       "      <th>Rating</th>\n",
       "      <th>Timestamp</th>\n",
       "      <th>Title</th>\n",
       "      <th>Genre</th>\n",
       "      <th>Gender</th>\n",
       "      <th>Age</th>\n",
       "      <th>Occupation</th>\n",
       "      <th>Zip-code</th>\n",
       "    </tr>\n",
       "  </thead>\n",
       "  <tbody>\n",
       "    <tr>\n",
       "      <th>0</th>\n",
       "      <td>1</td>\n",
       "      <td>1193</td>\n",
       "      <td>5</td>\n",
       "      <td>978300760</td>\n",
       "      <td>One Flew Over the Cuckoo's Nest (1975)</td>\n",
       "      <td>Drama</td>\n",
       "      <td>F</td>\n",
       "      <td>1</td>\n",
       "      <td>10</td>\n",
       "      <td>48067</td>\n",
       "    </tr>\n",
       "    <tr>\n",
       "      <th>1</th>\n",
       "      <td>1</td>\n",
       "      <td>661</td>\n",
       "      <td>3</td>\n",
       "      <td>978302109</td>\n",
       "      <td>James and the Giant Peach (1996)</td>\n",
       "      <td>Animation|Children's|Musical</td>\n",
       "      <td>F</td>\n",
       "      <td>1</td>\n",
       "      <td>10</td>\n",
       "      <td>48067</td>\n",
       "    </tr>\n",
       "    <tr>\n",
       "      <th>2</th>\n",
       "      <td>1</td>\n",
       "      <td>914</td>\n",
       "      <td>3</td>\n",
       "      <td>978301968</td>\n",
       "      <td>My Fair Lady (1964)</td>\n",
       "      <td>Musical|Romance</td>\n",
       "      <td>F</td>\n",
       "      <td>1</td>\n",
       "      <td>10</td>\n",
       "      <td>48067</td>\n",
       "    </tr>\n",
       "    <tr>\n",
       "      <th>3</th>\n",
       "      <td>1</td>\n",
       "      <td>3408</td>\n",
       "      <td>4</td>\n",
       "      <td>978300275</td>\n",
       "      <td>Erin Brockovich (2000)</td>\n",
       "      <td>Drama</td>\n",
       "      <td>F</td>\n",
       "      <td>1</td>\n",
       "      <td>10</td>\n",
       "      <td>48067</td>\n",
       "    </tr>\n",
       "    <tr>\n",
       "      <th>4</th>\n",
       "      <td>1</td>\n",
       "      <td>2355</td>\n",
       "      <td>5</td>\n",
       "      <td>978824291</td>\n",
       "      <td>Bug's Life, A (1998)</td>\n",
       "      <td>Animation|Children's|Comedy</td>\n",
       "      <td>F</td>\n",
       "      <td>1</td>\n",
       "      <td>10</td>\n",
       "      <td>48067</td>\n",
       "    </tr>\n",
       "  </tbody>\n",
       "</table>\n",
       "</div>"
      ],
      "text/plain": [
       "   UserID  MovieID  Rating  Timestamp                                   Title  \\\n",
       "0       1     1193       5  978300760  One Flew Over the Cuckoo's Nest (1975)   \n",
       "1       1      661       3  978302109        James and the Giant Peach (1996)   \n",
       "2       1      914       3  978301968                     My Fair Lady (1964)   \n",
       "3       1     3408       4  978300275                  Erin Brockovich (2000)   \n",
       "4       1     2355       5  978824291                    Bug's Life, A (1998)   \n",
       "\n",
       "                          Genre Gender  Age  Occupation Zip-code  \n",
       "0                         Drama      F    1          10    48067  \n",
       "1  Animation|Children's|Musical      F    1          10    48067  \n",
       "2               Musical|Romance      F    1          10    48067  \n",
       "3                         Drama      F    1          10    48067  \n",
       "4   Animation|Children's|Comedy      F    1          10    48067  "
      ]
     },
     "execution_count": 11,
     "metadata": {},
     "output_type": "execute_result"
    }
   ],
   "source": [
    "df = df_pre.merge(df_users,left_on = 'UserID', right_on = 'UserID', how = 'inner' )\n",
    "df.head()"
   ]
  },
  {
   "cell_type": "code",
   "execution_count": 12,
   "id": "93f03f23",
   "metadata": {},
   "outputs": [
    {
     "data": {
      "text/plain": [
       "(1000209, 10)"
      ]
     },
     "execution_count": 12,
     "metadata": {},
     "output_type": "execute_result"
    }
   ],
   "source": [
    "df.shape"
   ]
  },
  {
   "cell_type": "markdown",
   "id": "10a25e04",
   "metadata": {},
   "source": [
    "#### check null values"
   ]
  },
  {
   "cell_type": "code",
   "execution_count": 18,
   "id": "e1a8770a",
   "metadata": {},
   "outputs": [
    {
     "data": {
      "text/plain": [
       "UserID        0\n",
       "MovieID       0\n",
       "Rating        0\n",
       "Timestamp     0\n",
       "Title         0\n",
       "Genre         0\n",
       "Gender        0\n",
       "Age           0\n",
       "Occupation    0\n",
       "Zip-code      0\n",
       "dtype: int64"
      ]
     },
     "execution_count": 18,
     "metadata": {},
     "output_type": "execute_result"
    }
   ],
   "source": [
    "df.isnull().sum()"
   ]
  },
  {
   "cell_type": "markdown",
   "id": "522ecdb7",
   "metadata": {},
   "source": [
    "#### Check data types"
   ]
  },
  {
   "cell_type": "code",
   "execution_count": 15,
   "id": "7de6c21d",
   "metadata": {},
   "outputs": [
    {
     "name": "stdout",
     "output_type": "stream",
     "text": [
      "<class 'pandas.core.frame.DataFrame'>\n",
      "Int64Index: 1000209 entries, 0 to 1000208\n",
      "Data columns (total 10 columns):\n",
      " #   Column      Non-Null Count    Dtype \n",
      "---  ------      --------------    ----- \n",
      " 0   UserID      1000209 non-null  int64 \n",
      " 1   MovieID     1000209 non-null  int64 \n",
      " 2   Rating      1000209 non-null  int64 \n",
      " 3   Timestamp   1000209 non-null  int64 \n",
      " 4   Title       1000209 non-null  object\n",
      " 5   Genre       1000209 non-null  object\n",
      " 6   Gender      1000209 non-null  object\n",
      " 7   Age         1000209 non-null  int64 \n",
      " 8   Occupation  1000209 non-null  int64 \n",
      " 9   Zip-code    1000209 non-null  object\n",
      "dtypes: int64(6), object(4)\n",
      "memory usage: 83.9+ MB\n"
     ]
    }
   ],
   "source": [
    "df.info()"
   ]
  },
  {
   "cell_type": "code",
   "execution_count": 20,
   "id": "e9dd7461",
   "metadata": {},
   "outputs": [],
   "source": [
    "df['Age'] = df['Age'].astype('str')\n",
    "df['Occupation'] = df['Occupation'].astype('str')"
   ]
  },
  {
   "cell_type": "code",
   "execution_count": 22,
   "id": "8661f6a4",
   "metadata": {},
   "outputs": [
    {
     "data": {
      "text/plain": [
       "UserID         int64\n",
       "MovieID        int64\n",
       "Rating         int64\n",
       "Timestamp      int64\n",
       "Title         object\n",
       "Genre         object\n",
       "Gender        object\n",
       "Age           object\n",
       "Occupation    object\n",
       "Zip-code      object\n",
       "dtype: object"
      ]
     },
     "execution_count": 22,
     "metadata": {},
     "output_type": "execute_result"
    }
   ],
   "source": [
    "df.dtypes"
   ]
  },
  {
   "cell_type": "markdown",
   "id": "a5edb7a6",
   "metadata": {},
   "source": [
    "#### summary statistics"
   ]
  },
  {
   "cell_type": "code",
   "execution_count": 21,
   "id": "1b114a90",
   "metadata": {},
   "outputs": [
    {
     "data": {
      "text/html": [
       "<div>\n",
       "<style scoped>\n",
       "    .dataframe tbody tr th:only-of-type {\n",
       "        vertical-align: middle;\n",
       "    }\n",
       "\n",
       "    .dataframe tbody tr th {\n",
       "        vertical-align: top;\n",
       "    }\n",
       "\n",
       "    .dataframe thead th {\n",
       "        text-align: right;\n",
       "    }\n",
       "</style>\n",
       "<table border=\"1\" class=\"dataframe\">\n",
       "  <thead>\n",
       "    <tr style=\"text-align: right;\">\n",
       "      <th></th>\n",
       "      <th>UserID</th>\n",
       "      <th>MovieID</th>\n",
       "      <th>Rating</th>\n",
       "      <th>Timestamp</th>\n",
       "    </tr>\n",
       "  </thead>\n",
       "  <tbody>\n",
       "    <tr>\n",
       "      <th>count</th>\n",
       "      <td>1.000209e+06</td>\n",
       "      <td>1.000209e+06</td>\n",
       "      <td>1.000209e+06</td>\n",
       "      <td>1.000209e+06</td>\n",
       "    </tr>\n",
       "    <tr>\n",
       "      <th>mean</th>\n",
       "      <td>3.024512e+03</td>\n",
       "      <td>1.865540e+03</td>\n",
       "      <td>3.581564e+00</td>\n",
       "      <td>9.722437e+08</td>\n",
       "    </tr>\n",
       "    <tr>\n",
       "      <th>std</th>\n",
       "      <td>1.728413e+03</td>\n",
       "      <td>1.096041e+03</td>\n",
       "      <td>1.117102e+00</td>\n",
       "      <td>1.215256e+07</td>\n",
       "    </tr>\n",
       "    <tr>\n",
       "      <th>min</th>\n",
       "      <td>1.000000e+00</td>\n",
       "      <td>1.000000e+00</td>\n",
       "      <td>1.000000e+00</td>\n",
       "      <td>9.567039e+08</td>\n",
       "    </tr>\n",
       "    <tr>\n",
       "      <th>25%</th>\n",
       "      <td>1.506000e+03</td>\n",
       "      <td>1.030000e+03</td>\n",
       "      <td>3.000000e+00</td>\n",
       "      <td>9.653026e+08</td>\n",
       "    </tr>\n",
       "    <tr>\n",
       "      <th>50%</th>\n",
       "      <td>3.070000e+03</td>\n",
       "      <td>1.835000e+03</td>\n",
       "      <td>4.000000e+00</td>\n",
       "      <td>9.730180e+08</td>\n",
       "    </tr>\n",
       "    <tr>\n",
       "      <th>75%</th>\n",
       "      <td>4.476000e+03</td>\n",
       "      <td>2.770000e+03</td>\n",
       "      <td>4.000000e+00</td>\n",
       "      <td>9.752209e+08</td>\n",
       "    </tr>\n",
       "    <tr>\n",
       "      <th>max</th>\n",
       "      <td>6.040000e+03</td>\n",
       "      <td>3.952000e+03</td>\n",
       "      <td>5.000000e+00</td>\n",
       "      <td>1.046455e+09</td>\n",
       "    </tr>\n",
       "  </tbody>\n",
       "</table>\n",
       "</div>"
      ],
      "text/plain": [
       "             UserID       MovieID        Rating     Timestamp\n",
       "count  1.000209e+06  1.000209e+06  1.000209e+06  1.000209e+06\n",
       "mean   3.024512e+03  1.865540e+03  3.581564e+00  9.722437e+08\n",
       "std    1.728413e+03  1.096041e+03  1.117102e+00  1.215256e+07\n",
       "min    1.000000e+00  1.000000e+00  1.000000e+00  9.567039e+08\n",
       "25%    1.506000e+03  1.030000e+03  3.000000e+00  9.653026e+08\n",
       "50%    3.070000e+03  1.835000e+03  4.000000e+00  9.730180e+08\n",
       "75%    4.476000e+03  2.770000e+03  4.000000e+00  9.752209e+08\n",
       "max    6.040000e+03  3.952000e+03  5.000000e+00  1.046455e+09"
      ]
     },
     "execution_count": 21,
     "metadata": {},
     "output_type": "execute_result"
    }
   ],
   "source": [
    "df.describe()"
   ]
  },
  {
   "cell_type": "code",
   "execution_count": 23,
   "id": "f540bf73",
   "metadata": {},
   "outputs": [
    {
     "data": {
      "text/html": [
       "<div>\n",
       "<style scoped>\n",
       "    .dataframe tbody tr th:only-of-type {\n",
       "        vertical-align: middle;\n",
       "    }\n",
       "\n",
       "    .dataframe tbody tr th {\n",
       "        vertical-align: top;\n",
       "    }\n",
       "\n",
       "    .dataframe thead th {\n",
       "        text-align: right;\n",
       "    }\n",
       "</style>\n",
       "<table border=\"1\" class=\"dataframe\">\n",
       "  <thead>\n",
       "    <tr style=\"text-align: right;\">\n",
       "      <th></th>\n",
       "      <th>Title</th>\n",
       "      <th>Genre</th>\n",
       "      <th>Gender</th>\n",
       "      <th>Age</th>\n",
       "      <th>Occupation</th>\n",
       "      <th>Zip-code</th>\n",
       "    </tr>\n",
       "  </thead>\n",
       "  <tbody>\n",
       "    <tr>\n",
       "      <th>count</th>\n",
       "      <td>1000209</td>\n",
       "      <td>1000209</td>\n",
       "      <td>1000209</td>\n",
       "      <td>1000209</td>\n",
       "      <td>1000209</td>\n",
       "      <td>1000209</td>\n",
       "    </tr>\n",
       "    <tr>\n",
       "      <th>unique</th>\n",
       "      <td>3706</td>\n",
       "      <td>301</td>\n",
       "      <td>2</td>\n",
       "      <td>7</td>\n",
       "      <td>21</td>\n",
       "      <td>3439</td>\n",
       "    </tr>\n",
       "    <tr>\n",
       "      <th>top</th>\n",
       "      <td>American Beauty (1999)</td>\n",
       "      <td>Comedy</td>\n",
       "      <td>M</td>\n",
       "      <td>25</td>\n",
       "      <td>4</td>\n",
       "      <td>94110</td>\n",
       "    </tr>\n",
       "    <tr>\n",
       "      <th>freq</th>\n",
       "      <td>3428</td>\n",
       "      <td>116883</td>\n",
       "      <td>753769</td>\n",
       "      <td>395556</td>\n",
       "      <td>131032</td>\n",
       "      <td>3802</td>\n",
       "    </tr>\n",
       "  </tbody>\n",
       "</table>\n",
       "</div>"
      ],
      "text/plain": [
       "                         Title    Genre   Gender      Age Occupation Zip-code\n",
       "count                  1000209  1000209  1000209  1000209    1000209  1000209\n",
       "unique                    3706      301        2        7         21     3439\n",
       "top     American Beauty (1999)   Comedy        M       25          4    94110\n",
       "freq                      3428   116883   753769   395556     131032     3802"
      ]
     },
     "execution_count": 23,
     "metadata": {},
     "output_type": "execute_result"
    }
   ],
   "source": [
    "df.describe(include = [\"O\"])"
   ]
  },
  {
   "cell_type": "markdown",
   "id": "0e0c6cbf",
   "metadata": {},
   "source": [
    "### EDA"
   ]
  },
  {
   "cell_type": "code",
   "execution_count": 28,
   "id": "a072c690",
   "metadata": {},
   "outputs": [
    {
     "data": {
      "text/plain": [
       "<AxesSubplot:xlabel='Rating', ylabel='count'>"
      ]
     },
     "execution_count": 28,
     "metadata": {},
     "output_type": "execute_result"
    },
    {
     "data": {
      "image/png": "[encoded data removed]",
      "text/plain": [
       "<Figure size 432x288 with 1 Axes>"
      ]
     },
     "metadata": {
      "needs_background": "light"
     },
     "output_type": "display_data"
    }
   ],
   "source": [
    "sns.countplot(x='Rating',data=df)"
   ]
  },
  {
   "cell_type": "code",
   "execution_count": 29,
   "id": "3e04dfa5",
   "metadata": {},
   "outputs": [
    {
     "data": {
      "text/plain": [
       "<AxesSubplot:xlabel='Age', ylabel='count'>"
      ]
     },
     "execution_count": 29,
     "metadata": {},
     "output_type": "execute_result"
    },
    {
     "data": {
      "image/png": "[encoded data removed]",
      "text/plain": [
       "<Figure size 432x288 with 1 Axes>"
      ]
     },
     "metadata": {
      "needs_background": "light"
     },
     "output_type": "display_data"
    }
   ],
   "source": [
    "sns.countplot(x='Age',data=df)"
   ]
  },
  {
   "cell_type": "markdown",
   "id": "1d0a9c75",
   "metadata": {},
   "source": [
    "##### 1: \"Under 18\"; 18: \"18-24\"; 25: \"25-34\"; 35: \"35-44\"; 45: \"45-49\"; 50: \"50-55\"; 56: \"56+\""
   ]
  },
  {
   "cell_type": "code",
   "execution_count": 40,
   "id": "b6b5a0aa",
   "metadata": {},
   "outputs": [],
   "source": [
    "a = []\n",
    "for i in df['Age']:\n",
    "    if i == '1':\n",
    "        y_1 = 'Under 18'\n",
    "    elif i == '18' :\n",
    "        y_1 = '18-24'\n",
    "    elif i == '25' :\n",
    "        y_1 = '25-34'\n",
    "    elif i == '35' :\n",
    "        y_1 = '35-44'\n",
    "    elif i == '45' :\n",
    "        y_1 = '45-49'\n",
    "    elif i == '50' :\n",
    "        y_1 = '50-55'\n",
    "    else:\n",
    "        y_1 = '56+'\n",
    "    a.append(y_1)"
   ]
  },
  {
   "cell_type": "code",
   "execution_count": 41,
   "id": "48d568b0",
   "metadata": {},
   "outputs": [
    {
     "data": {
      "text/plain": [
       "<AxesSubplot:ylabel='count'>"
      ]
     },
     "execution_count": 41,
     "metadata": {},
     "output_type": "execute_result"
    },
    {
     "data": {
      "image/png": "[encoded data removed]",
      "text/plain": [
       "<Figure size 432x288 with 1 Axes>"
      ]
     },
     "metadata": {
      "needs_background": "light"
     },
     "output_type": "display_data"
    }
   ],
   "source": [
    "sns.countplot(x= a)"
   ]
  },
  {
   "cell_type": "code",
   "execution_count": 31,
   "id": "ee423628",
   "metadata": {},
   "outputs": [
    {
     "data": {
      "text/plain": [
       "<AxesSubplot:xlabel='Occupation', ylabel='count'>"
      ]
     },
     "execution_count": 31,
     "metadata": {},
     "output_type": "execute_result"
    },
    {
     "data": {
      "image/png": "[encoded data removed]",
      "text/plain": [
       "<Figure size 432x288 with 1 Axes>"
      ]
     },
     "metadata": {
      "needs_background": "light"
     },
     "output_type": "display_data"
    }
   ],
   "source": [
    "sns.countplot(x='Occupation',data=df)"
   ]
  },
  {
   "cell_type": "markdown",
   "id": "bdc02de6",
   "metadata": {},
   "source": [
    "##### 0: \"other\" or not specified; 1: \"academic/educator\"; 2: \"artist\"; 3: \"clerical/admin\"; 4: \"college/grad student\"; 5: \"customer service\"; 6: \"doctor/health care\"; 7: \"executive/managerial\"; 8: \"farmer\"; 9: \"homemaker\"; 10: \"K-12 student\"; 11: \"lawyer\"; 12: \"programmer\"; 13: \"retired\"; 14: \"sales/marketing\"; 15: \"scientist\"; 16: \"self-employed\"; 17: \"technician/engineer\"; 18: \"tradesman/craftsman\"; 19: \"unemployed\"; 20: \"writer”"
   ]
  },
  {
   "cell_type": "code",
   "execution_count": 44,
   "id": "18db525b",
   "metadata": {},
   "outputs": [
    {
     "data": {
      "text/plain": [
       "<AxesSubplot:xlabel='Age', ylabel='Rating'>"
      ]
     },
     "execution_count": 44,
     "metadata": {},
     "output_type": "execute_result"
    },
    {
     "data": {
      "image/png": "[encoded data removed]",
      "text/plain": [
       "<Figure size 432x288 with 1 Axes>"
      ]
     },
     "metadata": {
      "needs_background": "light"
     },
     "output_type": "display_data"
    }
   ],
   "source": [
    "sns.boxplot(x=\"Age\", y=\"Rating\", data=df,palette='rainbow')"
   ]
  },
  {
   "cell_type": "code",
   "execution_count": 46,
   "id": "b4e8657f",
   "metadata": {},
   "outputs": [
    {
     "data": {
      "text/plain": [
       "<AxesSubplot:xlabel='Occupation', ylabel='Rating'>"
      ]
     },
     "execution_count": 46,
     "metadata": {},
     "output_type": "execute_result"
    },
    {
     "data": {
      "image/png": "[encoded data removed]",
      "text/plain": [
       "<Figure size 432x288 with 1 Axes>"
      ]
     },
     "metadata": {
      "needs_background": "light"
     },
     "output_type": "display_data"
    }
   ],
   "source": [
    "sns.boxplot(x=\"Occupation\", y=\"Rating\", data=df,palette='rainbow')"
   ]
  },
  {
   "cell_type": "markdown",
   "id": "28226801",
   "metadata": {},
   "source": [
    "### Feature Engineering"
   ]
  },
  {
   "cell_type": "code",
   "execution_count": 55,
   "id": "41a2a726",
   "metadata": {},
   "outputs": [],
   "source": [
    "import re"
   ]
  },
  {
   "cell_type": "code",
   "execution_count": 56,
   "id": "6fc44f1f",
   "metadata": {},
   "outputs": [
    {
     "data": {
      "text/html": [
       "<div>\n",
       "<style scoped>\n",
       "    .dataframe tbody tr th:only-of-type {\n",
       "        vertical-align: middle;\n",
       "    }\n",
       "\n",
       "    .dataframe tbody tr th {\n",
       "        vertical-align: top;\n",
       "    }\n",
       "\n",
       "    .dataframe thead th {\n",
       "        text-align: right;\n",
       "    }\n",
       "</style>\n",
       "<table border=\"1\" class=\"dataframe\">\n",
       "  <thead>\n",
       "    <tr style=\"text-align: right;\">\n",
       "      <th></th>\n",
       "      <th>UserID</th>\n",
       "      <th>MovieID</th>\n",
       "      <th>Rating</th>\n",
       "      <th>Timestamp</th>\n",
       "      <th>Title</th>\n",
       "      <th>Genre</th>\n",
       "      <th>Gender</th>\n",
       "      <th>Age</th>\n",
       "      <th>Occupation</th>\n",
       "      <th>Zip-code</th>\n",
       "    </tr>\n",
       "  </thead>\n",
       "  <tbody>\n",
       "    <tr>\n",
       "      <th>0</th>\n",
       "      <td>1</td>\n",
       "      <td>1193</td>\n",
       "      <td>5</td>\n",
       "      <td>978300760</td>\n",
       "      <td>One Flew Over the Cuckoo's Nest (1975)</td>\n",
       "      <td>Drama</td>\n",
       "      <td>F</td>\n",
       "      <td>1</td>\n",
       "      <td>10</td>\n",
       "      <td>48067</td>\n",
       "    </tr>\n",
       "    <tr>\n",
       "      <th>1</th>\n",
       "      <td>1</td>\n",
       "      <td>661</td>\n",
       "      <td>3</td>\n",
       "      <td>978302109</td>\n",
       "      <td>James and the Giant Peach (1996)</td>\n",
       "      <td>Animation|Children's|Musical</td>\n",
       "      <td>F</td>\n",
       "      <td>1</td>\n",
       "      <td>10</td>\n",
       "      <td>48067</td>\n",
       "    </tr>\n",
       "    <tr>\n",
       "      <th>2</th>\n",
       "      <td>1</td>\n",
       "      <td>914</td>\n",
       "      <td>3</td>\n",
       "      <td>978301968</td>\n",
       "      <td>My Fair Lady (1964)</td>\n",
       "      <td>Musical|Romance</td>\n",
       "      <td>F</td>\n",
       "      <td>1</td>\n",
       "      <td>10</td>\n",
       "      <td>48067</td>\n",
       "    </tr>\n",
       "    <tr>\n",
       "      <th>3</th>\n",
       "      <td>1</td>\n",
       "      <td>3408</td>\n",
       "      <td>4</td>\n",
       "      <td>978300275</td>\n",
       "      <td>Erin Brockovich (2000)</td>\n",
       "      <td>Drama</td>\n",
       "      <td>F</td>\n",
       "      <td>1</td>\n",
       "      <td>10</td>\n",
       "      <td>48067</td>\n",
       "    </tr>\n",
       "    <tr>\n",
       "      <th>4</th>\n",
       "      <td>1</td>\n",
       "      <td>2355</td>\n",
       "      <td>5</td>\n",
       "      <td>978824291</td>\n",
       "      <td>Bug's Life, A (1998)</td>\n",
       "      <td>Animation|Children's|Comedy</td>\n",
       "      <td>F</td>\n",
       "      <td>1</td>\n",
       "      <td>10</td>\n",
       "      <td>48067</td>\n",
       "    </tr>\n",
       "  </tbody>\n",
       "</table>\n",
       "</div>"
      ],
      "text/plain": [
       "   UserID  MovieID  Rating  Timestamp                                   Title  \\\n",
       "0       1     1193       5  978300760  One Flew Over the Cuckoo's Nest (1975)   \n",
       "1       1      661       3  978302109        James and the Giant Peach (1996)   \n",
       "2       1      914       3  978301968                     My Fair Lady (1964)   \n",
       "3       1     3408       4  978300275                  Erin Brockovich (2000)   \n",
       "4       1     2355       5  978824291                    Bug's Life, A (1998)   \n",
       "\n",
       "                          Genre Gender Age Occupation Zip-code  \n",
       "0                         Drama      F   1         10    48067  \n",
       "1  Animation|Children's|Musical      F   1         10    48067  \n",
       "2               Musical|Romance      F   1         10    48067  \n",
       "3                         Drama      F   1         10    48067  \n",
       "4   Animation|Children's|Comedy      F   1         10    48067  "
      ]
     },
     "execution_count": 56,
     "metadata": {},
     "output_type": "execute_result"
    }
   ],
   "source": [
    "df.head()"
   ]
  },
  {
   "cell_type": "code",
   "execution_count": 57,
   "id": "ec412863",
   "metadata": {},
   "outputs": [],
   "source": [
    "df['Year'] = df['Title'].apply(lambda x: int(re.sub(r\"[^0-9]\", \"\", x.split()[-1])))"
   ]
  },
  {
   "cell_type": "code",
   "execution_count": 58,
   "id": "6055f452",
   "metadata": {},
   "outputs": [
    {
     "data": {
      "text/html": [
       "<div>\n",
       "<style scoped>\n",
       "    .dataframe tbody tr th:only-of-type {\n",
       "        vertical-align: middle;\n",
       "    }\n",
       "\n",
       "    .dataframe tbody tr th {\n",
       "        vertical-align: top;\n",
       "    }\n",
       "\n",
       "    .dataframe thead th {\n",
       "        text-align: right;\n",
       "    }\n",
       "</style>\n",
       "<table border=\"1\" class=\"dataframe\">\n",
       "  <thead>\n",
       "    <tr style=\"text-align: right;\">\n",
       "      <th></th>\n",
       "      <th>UserID</th>\n",
       "      <th>MovieID</th>\n",
       "      <th>Rating</th>\n",
       "      <th>Timestamp</th>\n",
       "      <th>Title</th>\n",
       "      <th>Genre</th>\n",
       "      <th>Gender</th>\n",
       "      <th>Age</th>\n",
       "      <th>Occupation</th>\n",
       "      <th>Zip-code</th>\n",
       "      <th>Year</th>\n",
       "    </tr>\n",
       "  </thead>\n",
       "  <tbody>\n",
       "    <tr>\n",
       "      <th>0</th>\n",
       "      <td>1</td>\n",
       "      <td>1193</td>\n",
       "      <td>5</td>\n",
       "      <td>978300760</td>\n",
       "      <td>One Flew Over the Cuckoo's Nest (1975)</td>\n",
       "      <td>Drama</td>\n",
       "      <td>F</td>\n",
       "      <td>1</td>\n",
       "      <td>10</td>\n",
       "      <td>48067</td>\n",
       "      <td>1975</td>\n",
       "    </tr>\n",
       "    <tr>\n",
       "      <th>1</th>\n",
       "      <td>1</td>\n",
       "      <td>661</td>\n",
       "      <td>3</td>\n",
       "      <td>978302109</td>\n",
       "      <td>James and the Giant Peach (1996)</td>\n",
       "      <td>Animation|Children's|Musical</td>\n",
       "      <td>F</td>\n",
       "      <td>1</td>\n",
       "      <td>10</td>\n",
       "      <td>48067</td>\n",
       "      <td>1996</td>\n",
       "    </tr>\n",
       "    <tr>\n",
       "      <th>2</th>\n",
       "      <td>1</td>\n",
       "      <td>914</td>\n",
       "      <td>3</td>\n",
       "      <td>978301968</td>\n",
       "      <td>My Fair Lady (1964)</td>\n",
       "      <td>Musical|Romance</td>\n",
       "      <td>F</td>\n",
       "      <td>1</td>\n",
       "      <td>10</td>\n",
       "      <td>48067</td>\n",
       "      <td>1964</td>\n",
       "    </tr>\n",
       "    <tr>\n",
       "      <th>3</th>\n",
       "      <td>1</td>\n",
       "      <td>3408</td>\n",
       "      <td>4</td>\n",
       "      <td>978300275</td>\n",
       "      <td>Erin Brockovich (2000)</td>\n",
       "      <td>Drama</td>\n",
       "      <td>F</td>\n",
       "      <td>1</td>\n",
       "      <td>10</td>\n",
       "      <td>48067</td>\n",
       "      <td>2000</td>\n",
       "    </tr>\n",
       "    <tr>\n",
       "      <th>4</th>\n",
       "      <td>1</td>\n",
       "      <td>2355</td>\n",
       "      <td>5</td>\n",
       "      <td>978824291</td>\n",
       "      <td>Bug's Life, A (1998)</td>\n",
       "      <td>Animation|Children's|Comedy</td>\n",
       "      <td>F</td>\n",
       "      <td>1</td>\n",
       "      <td>10</td>\n",
       "      <td>48067</td>\n",
       "      <td>1998</td>\n",
       "    </tr>\n",
       "  </tbody>\n",
       "</table>\n",
       "</div>"
      ],
      "text/plain": [
       "   UserID  MovieID  Rating  Timestamp                                   Title  \\\n",
       "0       1     1193       5  978300760  One Flew Over the Cuckoo's Nest (1975)   \n",
       "1       1      661       3  978302109        James and the Giant Peach (1996)   \n",
       "2       1      914       3  978301968                     My Fair Lady (1964)   \n",
       "3       1     3408       4  978300275                  Erin Brockovich (2000)   \n",
       "4       1     2355       5  978824291                    Bug's Life, A (1998)   \n",
       "\n",
       "                          Genre Gender Age Occupation Zip-code  Year  \n",
       "0                         Drama      F   1         10    48067  1975  \n",
       "1  Animation|Children's|Musical      F   1         10    48067  1996  \n",
       "2               Musical|Romance      F   1         10    48067  1964  \n",
       "3                         Drama      F   1         10    48067  2000  \n",
       "4   Animation|Children's|Comedy      F   1         10    48067  1998  "
      ]
     },
     "execution_count": 58,
     "metadata": {},
     "output_type": "execute_result"
    }
   ],
   "source": [
    "df.head()"
   ]
  },
  {
   "cell_type": "code",
   "execution_count": 89,
   "id": "8d5ea1ea",
   "metadata": {},
   "outputs": [],
   "source": [
    "genre_type = set()\n",
    "for i in range(df.shape[0]):\n",
    "    genre = df['Genre'][i].split('|')\n",
    "    for j in genre:\n",
    "        genre_type.add(j)"
   ]
  },
  {
   "cell_type": "code",
   "execution_count": 90,
   "id": "e03b6a60",
   "metadata": {},
   "outputs": [
    {
     "data": {
      "text/plain": [
       "{'Action',\n",
       " 'Adventure',\n",
       " 'Animation',\n",
       " \"Children's\",\n",
       " 'Comedy',\n",
       " 'Crime',\n",
       " 'Documentary',\n",
       " 'Drama',\n",
       " 'Fantasy',\n",
       " 'Film-Noir',\n",
       " 'Horror',\n",
       " 'Musical',\n",
       " 'Mystery',\n",
       " 'Romance',\n",
       " 'Sci-Fi',\n",
       " 'Thriller',\n",
       " 'War',\n",
       " 'Western'}"
      ]
     },
     "execution_count": 90,
     "metadata": {},
     "output_type": "execute_result"
    }
   ],
   "source": [
    "genre_type"
   ]
  },
  {
   "cell_type": "code",
   "execution_count": 87,
   "id": "b9f68771",
   "metadata": {},
   "outputs": [
    {
     "data": {
      "text/plain": [
       "['Animation', \"Children's\", 'Musical']"
      ]
     },
     "execution_count": 87,
     "metadata": {},
     "output_type": "execute_result"
    }
   ],
   "source": [
    "b = str(df.iloc[1, :]['Genre']).split('|')\n",
    "b"
   ]
  },
  {
   "cell_type": "code",
   "execution_count": 64,
   "id": "adf332fb",
   "metadata": {},
   "outputs": [
    {
     "data": {
      "text/plain": [
       "{'Action',\n",
       " 'Adventure',\n",
       " 'Animation',\n",
       " \"Children's\",\n",
       " 'Comedy',\n",
       " 'Crime',\n",
       " 'Documentary',\n",
       " 'Drama',\n",
       " 'Fantasy',\n",
       " 'Film-Noir',\n",
       " 'Horror',\n",
       " 'Musical',\n",
       " 'Mystery',\n",
       " 'Romance',\n",
       " 'Sci-Fi',\n",
       " 'Thriller',\n",
       " 'War',\n",
       " 'Western'}"
      ]
     },
     "execution_count": 64,
     "metadata": {},
     "output_type": "execute_result"
    }
   ],
   "source": [
    "genre_list"
   ]
  },
  {
   "cell_type": "code",
   "execution_count": 91,
   "id": "e7340416",
   "metadata": {},
   "outputs": [],
   "source": [
    "for i in genre_type:\n",
    "    df[i] = df['Genre'].apply(lambda x: int(i in x))"
   ]
  },
  {
   "cell_type": "code",
   "execution_count": 93,
   "id": "a6186c67",
   "metadata": {},
   "outputs": [
    {
     "data": {
      "text/html": [
       "<div>\n",
       "<style scoped>\n",
       "    .dataframe tbody tr th:only-of-type {\n",
       "        vertical-align: middle;\n",
       "    }\n",
       "\n",
       "    .dataframe tbody tr th {\n",
       "        vertical-align: top;\n",
       "    }\n",
       "\n",
       "    .dataframe thead th {\n",
       "        text-align: right;\n",
       "    }\n",
       "</style>\n",
       "<table border=\"1\" class=\"dataframe\">\n",
       "  <thead>\n",
       "    <tr style=\"text-align: right;\">\n",
       "      <th></th>\n",
       "      <th>UserID</th>\n",
       "      <th>MovieID</th>\n",
       "      <th>Rating</th>\n",
       "      <th>Timestamp</th>\n",
       "      <th>Title</th>\n",
       "      <th>Genre</th>\n",
       "      <th>Gender</th>\n",
       "      <th>Age</th>\n",
       "      <th>Occupation</th>\n",
       "      <th>Zip-code</th>\n",
       "      <th>...</th>\n",
       "      <th>Animation</th>\n",
       "      <th>Children's</th>\n",
       "      <th>Drama</th>\n",
       "      <th>Fantasy</th>\n",
       "      <th>Adventure</th>\n",
       "      <th>War</th>\n",
       "      <th>Sci-Fi</th>\n",
       "      <th>Crime</th>\n",
       "      <th>Comedy</th>\n",
       "      <th>Action</th>\n",
       "    </tr>\n",
       "  </thead>\n",
       "  <tbody>\n",
       "    <tr>\n",
       "      <th>0</th>\n",
       "      <td>1</td>\n",
       "      <td>1193</td>\n",
       "      <td>5</td>\n",
       "      <td>978300760</td>\n",
       "      <td>One Flew Over the Cuckoo's Nest (1975)</td>\n",
       "      <td>Drama</td>\n",
       "      <td>F</td>\n",
       "      <td>1</td>\n",
       "      <td>10</td>\n",
       "      <td>48067</td>\n",
       "      <td>...</td>\n",
       "      <td>0</td>\n",
       "      <td>0</td>\n",
       "      <td>1</td>\n",
       "      <td>0</td>\n",
       "      <td>0</td>\n",
       "      <td>0</td>\n",
       "      <td>0</td>\n",
       "      <td>0</td>\n",
       "      <td>0</td>\n",
       "      <td>0</td>\n",
       "    </tr>\n",
       "    <tr>\n",
       "      <th>1</th>\n",
       "      <td>1</td>\n",
       "      <td>661</td>\n",
       "      <td>3</td>\n",
       "      <td>978302109</td>\n",
       "      <td>James and the Giant Peach (1996)</td>\n",
       "      <td>Animation|Children's|Musical</td>\n",
       "      <td>F</td>\n",
       "      <td>1</td>\n",
       "      <td>10</td>\n",
       "      <td>48067</td>\n",
       "      <td>...</td>\n",
       "      <td>1</td>\n",
       "      <td>1</td>\n",
       "      <td>0</td>\n",
       "      <td>0</td>\n",
       "      <td>0</td>\n",
       "      <td>0</td>\n",
       "      <td>0</td>\n",
       "      <td>0</td>\n",
       "      <td>0</td>\n",
       "      <td>0</td>\n",
       "    </tr>\n",
       "    <tr>\n",
       "      <th>2</th>\n",
       "      <td>1</td>\n",
       "      <td>914</td>\n",
       "      <td>3</td>\n",
       "      <td>978301968</td>\n",
       "      <td>My Fair Lady (1964)</td>\n",
       "      <td>Musical|Romance</td>\n",
       "      <td>F</td>\n",
       "      <td>1</td>\n",
       "      <td>10</td>\n",
       "      <td>48067</td>\n",
       "      <td>...</td>\n",
       "      <td>0</td>\n",
       "      <td>0</td>\n",
       "      <td>0</td>\n",
       "      <td>0</td>\n",
       "      <td>0</td>\n",
       "      <td>0</td>\n",
       "      <td>0</td>\n",
       "      <td>0</td>\n",
       "      <td>0</td>\n",
       "      <td>0</td>\n",
       "    </tr>\n",
       "    <tr>\n",
       "      <th>3</th>\n",
       "      <td>1</td>\n",
       "      <td>3408</td>\n",
       "      <td>4</td>\n",
       "      <td>978300275</td>\n",
       "      <td>Erin Brockovich (2000)</td>\n",
       "      <td>Drama</td>\n",
       "      <td>F</td>\n",
       "      <td>1</td>\n",
       "      <td>10</td>\n",
       "      <td>48067</td>\n",
       "      <td>...</td>\n",
       "      <td>0</td>\n",
       "      <td>0</td>\n",
       "      <td>1</td>\n",
       "      <td>0</td>\n",
       "      <td>0</td>\n",
       "      <td>0</td>\n",
       "      <td>0</td>\n",
       "      <td>0</td>\n",
       "      <td>0</td>\n",
       "      <td>0</td>\n",
       "    </tr>\n",
       "    <tr>\n",
       "      <th>4</th>\n",
       "      <td>1</td>\n",
       "      <td>2355</td>\n",
       "      <td>5</td>\n",
       "      <td>978824291</td>\n",
       "      <td>Bug's Life, A (1998)</td>\n",
       "      <td>Animation|Children's|Comedy</td>\n",
       "      <td>F</td>\n",
       "      <td>1</td>\n",
       "      <td>10</td>\n",
       "      <td>48067</td>\n",
       "      <td>...</td>\n",
       "      <td>1</td>\n",
       "      <td>1</td>\n",
       "      <td>0</td>\n",
       "      <td>0</td>\n",
       "      <td>0</td>\n",
       "      <td>0</td>\n",
       "      <td>0</td>\n",
       "      <td>0</td>\n",
       "      <td>1</td>\n",
       "      <td>0</td>\n",
       "    </tr>\n",
       "  </tbody>\n",
       "</table>\n",
       "<p>5 rows × 29 columns</p>\n",
       "</div>"
      ],
      "text/plain": [
       "   UserID  MovieID  Rating  Timestamp                                   Title  \\\n",
       "0       1     1193       5  978300760  One Flew Over the Cuckoo's Nest (1975)   \n",
       "1       1      661       3  978302109        James and the Giant Peach (1996)   \n",
       "2       1      914       3  978301968                     My Fair Lady (1964)   \n",
       "3       1     3408       4  978300275                  Erin Brockovich (2000)   \n",
       "4       1     2355       5  978824291                    Bug's Life, A (1998)   \n",
       "\n",
       "                          Genre Gender Age Occupation Zip-code  ...  \\\n",
       "0                         Drama      F   1         10    48067  ...   \n",
       "1  Animation|Children's|Musical      F   1         10    48067  ...   \n",
       "2               Musical|Romance      F   1         10    48067  ...   \n",
       "3                         Drama      F   1         10    48067  ...   \n",
       "4   Animation|Children's|Comedy      F   1         10    48067  ...   \n",
       "\n",
       "   Animation  Children's  Drama  Fantasy  Adventure  War  Sci-Fi  Crime  \\\n",
       "0          0           0      1        0          0    0       0      0   \n",
       "1          1           1      0        0          0    0       0      0   \n",
       "2          0           0      0        0          0    0       0      0   \n",
       "3          0           0      1        0          0    0       0      0   \n",
       "4          1           1      0        0          0    0       0      0   \n",
       "\n",
       "   Comedy  Action  \n",
       "0       0       0  \n",
       "1       0       0  \n",
       "2       0       0  \n",
       "3       0       0  \n",
       "4       1       0  \n",
       "\n",
       "[5 rows x 29 columns]"
      ]
     },
     "execution_count": 93,
     "metadata": {},
     "output_type": "execute_result"
    }
   ],
   "source": [
    "df.head()"
   ]
  },
  {
   "cell_type": "markdown",
   "id": "42c1d740",
   "metadata": {},
   "source": [
    "### Content-Based Filtering- superwised"
   ]
  },
  {
   "cell_type": "code",
   "execution_count": 109,
   "id": "4f91057b",
   "metadata": {},
   "outputs": [],
   "source": [
    "from sklearn.model_selection import train_test_split\n",
    "from sklearn.ensemble import RandomForestClassifier\n",
    "from sklearn.metrics import precision_score, recall_score, f1_score\n"
   ]
  },
  {
   "cell_type": "code",
   "execution_count": 106,
   "id": "2339eb35",
   "metadata": {},
   "outputs": [],
   "source": [
    "all_movies = list(df[\"Title\"].unique())"
   ]
  },
  {
   "cell_type": "code",
   "execution_count": 107,
   "id": "0b896c2d",
   "metadata": {},
   "outputs": [],
   "source": [
    "def createMovieList(df, UserID, movies = all_movies):\n",
    "    movies_seen = df.loc[df.UserID == UserID, :][\"Title\"].unique()\n",
    "    movies_not_seen = []\n",
    "    for movie in all_movies:\n",
    "        if movie not in movies_seen:\n",
    "            movies_not_seen.append(movie)\n",
    "    output = pd.DataFrame({\"Title\": movies_not_seen})\n",
    "    return output"
   ]
  },
  {
   "cell_type": "code",
   "execution_count": 108,
   "id": "047741e9",
   "metadata": {},
   "outputs": [],
   "source": [
    "movie_list = createMovieList(df, 1)"
   ]
  },
  {
   "cell_type": "code",
   "execution_count": 113,
   "id": "de0ef45c",
   "metadata": {},
   "outputs": [],
   "source": [
    "def contentBasedMovieRecommender2(df, UserID):\n",
    "    df_user = df.loc[df.UserID == UserID, :]\n",
    "    X = df.drop([\"Rating\",\"UserID\", \"MovieID\", \"Timestamp\", \"Title\", \"Genre\", \"Gender\", \"Zip-code\", \"Age\", \"Occupation\"], axis = 1)\n",
    "    y = df[\"Rating\"].apply(lambda x: int(x >= 4))\n",
    "    \n",
    "    # train test split\n",
    "    X_train, X_test, y_train, y_test = train_test_split(X, y, test_size=0.2, random_state=0, stratify=y)\n",
    "    \n",
    "    # build a model\n",
    "    weights = y_test.sum()/len(y_test)\n",
    "#     clf = LogisticRegression(class_weight = \"balanced\").fit(X_train, y_train)\n",
    "    clf = RandomForestClassifier(class_weight = \"balanced\").fit(X_train, y_train)\n",
    "    # model evaluation\n",
    "    y_train_pred = clf.predict(X_train)\n",
    "    y_test_pred = clf.predict(X_test)\n",
    "    precision_train = precision_score(y_train, y_train_pred)\n",
    "    precision_test = precision_score(y_test, y_test_pred)\n",
    "    recall_train = recall_score(y_train, y_train_pred)\n",
    "    recall_test = recall_score(y_test, y_test_pred)\n",
    "    f1_train = f1_score(y_train, y_train_pred)\n",
    "    f1_test = f1_score(y_test, y_test_pred)\n",
    "    \n",
    "    # create recommended movie list \n",
    "    movie_list = createMovieList(df, UserID)\n",
    "    df_movies = df.merge(movie_list, left_on = \"Title\", right_on = \"Title\", how = \"inner\")\n",
    "    \n",
    "    X_movies = df_movies.drop([\"Rating\",\"UserID\", \"MovieID\", \"Timestamp\", \"Genre\", \"Gender\", \"Zip-code\", \"Age\", \"Occupation\"], axis = 1).drop_duplicates()\n",
    "    movie_ratings = clf.predict_proba(X_movies.drop([\"Title\"], axis = 1))\n",
    "    X_movies[\"score\"] = movie_ratings[:, 1]\n",
    "    X_movies\n",
    "    recommendations = list(X_movies.sort_values([\"score\"], ascending = False)[\"Title\"])[:10]\n",
    "    return recommendations, precision_train, precision_test, recall_train, recall_test"
   ]
  },
  {
   "cell_type": "code",
   "execution_count": 114,
   "id": "bb9cbd45",
   "metadata": {},
   "outputs": [],
   "source": [
    "recommendations, precision_train, precision_test, recall_train, recall_test = contentBasedMovieRecommender2(df, 2)"
   ]
  },
  {
   "cell_type": "code",
   "execution_count": 112,
   "id": "d47344f8",
   "metadata": {},
   "outputs": [
    {
     "data": {
      "text/plain": [
       "['Seven Samurai (The Magnificent Seven) (Shichinin no samurai) (1954)',\n",
       " 'Godfather, The (1972)',\n",
       " 'One Little Indian (1973)',\n",
       " 'Sanjuro (1962)',\n",
       " 'Grand Illusion (Grande illusion, La) (1937)',\n",
       " 'Dr. Strangelove or: How I Learned to Stop Worrying and Love the Bomb (1963)',\n",
       " 'Close Shave, A (1995)',\n",
       " 'Sunset Blvd. (a.k.a. Sunset Boulevard) (1950)',\n",
       " 'Swing Kids (1993)',\n",
       " \"Schindler's List (1993)\"]"
      ]
     },
     "execution_count": 112,
     "metadata": {},
     "output_type": "execute_result"
    }
   ],
   "source": [
    "recommendations"
   ]
  },
  {
   "cell_type": "code",
   "execution_count": 115,
   "id": "ca31a790",
   "metadata": {},
   "outputs": [
    {
     "name": "stdout",
     "output_type": "stream",
     "text": [
      "0.7034111260418874 0.7030832160860208 0.6562811668205769 0.6558284661382283\n"
     ]
    }
   ],
   "source": [
    "print(precision_train, precision_test, recall_train, recall_test)"
   ]
  },
  {
   "cell_type": "markdown",
   "id": "ea8741f4",
   "metadata": {},
   "source": [
    "### Content-Based Filtering- unsuperwised"
   ]
  },
  {
   "cell_type": "code",
   "execution_count": 150,
   "id": "027ebadf",
   "metadata": {},
   "outputs": [],
   "source": [
    "import numpy as np\n",
    "from numpy import dot\n",
    "from numpy.linalg import norm\n",
    "import pandas as pd\n",
    "import matplotlib.pyplot as plt\n",
    "from nltk.tokenize import sent_tokenize, word_tokenize\n",
    "import nltk\n",
    "from nltk.corpus import stopwords\n",
    "from nltk.stem import WordNetLemmatizer \n",
    "from string import punctuation\n",
    "import re\n",
    "import gensim\n",
    "from gensim.models import Word2Vec\n",
    "import warnings\n",
    "warnings.filterwarnings(action = 'ignore')\n",
    "from nltk.corpus import wordnet as wn"
   ]
  },
  {
   "cell_type": "code",
   "execution_count": 154,
   "id": "45ed20ca",
   "metadata": {},
   "outputs": [
    {
     "name": "stderr",
     "output_type": "stream",
     "text": [
      "[nltk_data] Downloading package punkt to /Users/wenzhuowu/nltk_data...\n",
      "[nltk_data]   Package punkt is already up-to-date!\n"
     ]
    },
    {
     "data": {
      "text/plain": [
       "True"
      ]
     },
     "execution_count": 154,
     "metadata": {},
     "output_type": "execute_result"
    }
   ],
   "source": [
    "import ssl\n",
    "try:\n",
    "      _create_unverified_https_context =     ssl._create_unverified_context\n",
    "except AttributeError:\n",
    "      pass\n",
    "else:\n",
    "     ssl._create_default_https_context = _create_unverified_https_context\n",
    "\n",
    "nltk.download('punkt')"
   ]
  },
  {
   "cell_type": "code",
   "execution_count": 144,
   "id": "639f9ffa",
   "metadata": {},
   "outputs": [
    {
     "name": "stderr",
     "output_type": "stream",
     "text": [
      "[nltk_data] Downloading package averaged_perceptron_tagger to\n",
      "[nltk_data]     /Users/wenzhuowu/nltk_data...\n",
      "[nltk_data]   Package averaged_perceptron_tagger is already up-to-\n",
      "[nltk_data]       date!\n"
     ]
    },
    {
     "data": {
      "text/plain": [
       "True"
      ]
     },
     "execution_count": 144,
     "metadata": {},
     "output_type": "execute_result"
    }
   ],
   "source": [
    "nltk.download('averaged_perceptron_tagger')"
   ]
  },
  {
   "cell_type": "markdown",
   "id": "b90a84ed",
   "metadata": {},
   "source": [
    "#### Create unified text field (Title + Genre)"
   ]
  },
  {
   "cell_type": "code",
   "execution_count": 155,
   "id": "c0207472",
   "metadata": {},
   "outputs": [],
   "source": [
    "df1 = df.drop(genre_list, axis = 1)\n",
    "df1[\"unified_text\"] =  df[\"Genre\"] + \" \" + df[\"Title\"]"
   ]
  },
  {
   "cell_type": "code",
   "execution_count": 156,
   "id": "01141fce",
   "metadata": {},
   "outputs": [
    {
     "data": {
      "text/html": [
       "<div>\n",
       "<style scoped>\n",
       "    .dataframe tbody tr th:only-of-type {\n",
       "        vertical-align: middle;\n",
       "    }\n",
       "\n",
       "    .dataframe tbody tr th {\n",
       "        vertical-align: top;\n",
       "    }\n",
       "\n",
       "    .dataframe thead th {\n",
       "        text-align: right;\n",
       "    }\n",
       "</style>\n",
       "<table border=\"1\" class=\"dataframe\">\n",
       "  <thead>\n",
       "    <tr style=\"text-align: right;\">\n",
       "      <th></th>\n",
       "      <th>UserID</th>\n",
       "      <th>MovieID</th>\n",
       "      <th>Rating</th>\n",
       "      <th>Timestamp</th>\n",
       "      <th>Title</th>\n",
       "      <th>Genre</th>\n",
       "      <th>Gender</th>\n",
       "      <th>Age</th>\n",
       "      <th>Occupation</th>\n",
       "      <th>Zip-code</th>\n",
       "      <th>Year</th>\n",
       "      <th>unified_text</th>\n",
       "    </tr>\n",
       "  </thead>\n",
       "  <tbody>\n",
       "    <tr>\n",
       "      <th>0</th>\n",
       "      <td>1</td>\n",
       "      <td>1193</td>\n",
       "      <td>5</td>\n",
       "      <td>978300760</td>\n",
       "      <td>One Flew Over the Cuckoo's Nest (1975)</td>\n",
       "      <td>Drama</td>\n",
       "      <td>F</td>\n",
       "      <td>1</td>\n",
       "      <td>10</td>\n",
       "      <td>48067</td>\n",
       "      <td>1975</td>\n",
       "      <td>Drama One Flew Over the Cuckoo's Nest (1975)</td>\n",
       "    </tr>\n",
       "    <tr>\n",
       "      <th>1</th>\n",
       "      <td>1</td>\n",
       "      <td>661</td>\n",
       "      <td>3</td>\n",
       "      <td>978302109</td>\n",
       "      <td>James and the Giant Peach (1996)</td>\n",
       "      <td>Animation|Children's|Musical</td>\n",
       "      <td>F</td>\n",
       "      <td>1</td>\n",
       "      <td>10</td>\n",
       "      <td>48067</td>\n",
       "      <td>1996</td>\n",
       "      <td>Animation|Children's|Musical James and the Gia...</td>\n",
       "    </tr>\n",
       "    <tr>\n",
       "      <th>2</th>\n",
       "      <td>1</td>\n",
       "      <td>914</td>\n",
       "      <td>3</td>\n",
       "      <td>978301968</td>\n",
       "      <td>My Fair Lady (1964)</td>\n",
       "      <td>Musical|Romance</td>\n",
       "      <td>F</td>\n",
       "      <td>1</td>\n",
       "      <td>10</td>\n",
       "      <td>48067</td>\n",
       "      <td>1964</td>\n",
       "      <td>Musical|Romance My Fair Lady (1964)</td>\n",
       "    </tr>\n",
       "    <tr>\n",
       "      <th>3</th>\n",
       "      <td>1</td>\n",
       "      <td>3408</td>\n",
       "      <td>4</td>\n",
       "      <td>978300275</td>\n",
       "      <td>Erin Brockovich (2000)</td>\n",
       "      <td>Drama</td>\n",
       "      <td>F</td>\n",
       "      <td>1</td>\n",
       "      <td>10</td>\n",
       "      <td>48067</td>\n",
       "      <td>2000</td>\n",
       "      <td>Drama Erin Brockovich (2000)</td>\n",
       "    </tr>\n",
       "    <tr>\n",
       "      <th>4</th>\n",
       "      <td>1</td>\n",
       "      <td>2355</td>\n",
       "      <td>5</td>\n",
       "      <td>978824291</td>\n",
       "      <td>Bug's Life, A (1998)</td>\n",
       "      <td>Animation|Children's|Comedy</td>\n",
       "      <td>F</td>\n",
       "      <td>1</td>\n",
       "      <td>10</td>\n",
       "      <td>48067</td>\n",
       "      <td>1998</td>\n",
       "      <td>Animation|Children's|Comedy Bug's Life, A (1998)</td>\n",
       "    </tr>\n",
       "  </tbody>\n",
       "</table>\n",
       "</div>"
      ],
      "text/plain": [
       "   UserID  MovieID  Rating  Timestamp                                   Title  \\\n",
       "0       1     1193       5  978300760  One Flew Over the Cuckoo's Nest (1975)   \n",
       "1       1      661       3  978302109        James and the Giant Peach (1996)   \n",
       "2       1      914       3  978301968                     My Fair Lady (1964)   \n",
       "3       1     3408       4  978300275                  Erin Brockovich (2000)   \n",
       "4       1     2355       5  978824291                    Bug's Life, A (1998)   \n",
       "\n",
       "                          Genre Gender Age Occupation Zip-code  Year  \\\n",
       "0                         Drama      F   1         10    48067  1975   \n",
       "1  Animation|Children's|Musical      F   1         10    48067  1996   \n",
       "2               Musical|Romance      F   1         10    48067  1964   \n",
       "3                         Drama      F   1         10    48067  2000   \n",
       "4   Animation|Children's|Comedy      F   1         10    48067  1998   \n",
       "\n",
       "                                        unified_text  \n",
       "0       Drama One Flew Over the Cuckoo's Nest (1975)  \n",
       "1  Animation|Children's|Musical James and the Gia...  \n",
       "2                Musical|Romance My Fair Lady (1964)  \n",
       "3                       Drama Erin Brockovich (2000)  \n",
       "4   Animation|Children's|Comedy Bug's Life, A (1998)  "
      ]
     },
     "execution_count": 156,
     "metadata": {},
     "output_type": "execute_result"
    }
   ],
   "source": [
    "df1.head()"
   ]
  },
  {
   "cell_type": "code",
   "execution_count": 157,
   "id": "1ec83d00",
   "metadata": {},
   "outputs": [],
   "source": [
    "stop_words =  stopwords.words('english')\n",
    "def textCleaning(t, stop_words = stop_words):\n",
    "    t = re.sub(r\"[^A-Za-z0-9]\", \" \", t)\n",
    "    t = re.sub(r\"\\'s\", \" \", t)\n",
    "    t = ''.join([c for c in t if c not in punctuation])\n",
    "    t = t.lower()\n",
    "    \n",
    "    #remove stop words\n",
    "    t = t.split()\n",
    "    t = [w for w in t if not w.lower() in stop_words]\n",
    "    \n",
    "    #lemmatize each word\n",
    "    lemmatizer = WordNetLemmatizer()\n",
    "    lemmatized_words = [lemmatizer.lemmatize(w) for w in t]\n",
    "    t = \" \".join(lemmatized_words)\n",
    "    return t"
   ]
  },
  {
   "cell_type": "code",
   "execution_count": 158,
   "id": "8d27b79d",
   "metadata": {},
   "outputs": [
    {
     "data": {
      "text/html": [
       "<div>\n",
       "<style scoped>\n",
       "    .dataframe tbody tr th:only-of-type {\n",
       "        vertical-align: middle;\n",
       "    }\n",
       "\n",
       "    .dataframe tbody tr th {\n",
       "        vertical-align: top;\n",
       "    }\n",
       "\n",
       "    .dataframe thead th {\n",
       "        text-align: right;\n",
       "    }\n",
       "</style>\n",
       "<table border=\"1\" class=\"dataframe\">\n",
       "  <thead>\n",
       "    <tr style=\"text-align: right;\">\n",
       "      <th></th>\n",
       "      <th>UserID</th>\n",
       "      <th>MovieID</th>\n",
       "      <th>Rating</th>\n",
       "      <th>Timestamp</th>\n",
       "      <th>Title</th>\n",
       "      <th>Genre</th>\n",
       "      <th>Gender</th>\n",
       "      <th>Age</th>\n",
       "      <th>Occupation</th>\n",
       "      <th>Zip-code</th>\n",
       "      <th>Year</th>\n",
       "      <th>unified_text</th>\n",
       "      <th>unified_text_preprocessed</th>\n",
       "    </tr>\n",
       "  </thead>\n",
       "  <tbody>\n",
       "    <tr>\n",
       "      <th>0</th>\n",
       "      <td>1</td>\n",
       "      <td>1193</td>\n",
       "      <td>5</td>\n",
       "      <td>978300760</td>\n",
       "      <td>One Flew Over the Cuckoo's Nest (1975)</td>\n",
       "      <td>Drama</td>\n",
       "      <td>F</td>\n",
       "      <td>1</td>\n",
       "      <td>10</td>\n",
       "      <td>48067</td>\n",
       "      <td>1975</td>\n",
       "      <td>Drama One Flew Over the Cuckoo's Nest (1975)</td>\n",
       "      <td>drama one flew cuckoo nest 1975</td>\n",
       "    </tr>\n",
       "    <tr>\n",
       "      <th>1</th>\n",
       "      <td>1</td>\n",
       "      <td>661</td>\n",
       "      <td>3</td>\n",
       "      <td>978302109</td>\n",
       "      <td>James and the Giant Peach (1996)</td>\n",
       "      <td>Animation|Children's|Musical</td>\n",
       "      <td>F</td>\n",
       "      <td>1</td>\n",
       "      <td>10</td>\n",
       "      <td>48067</td>\n",
       "      <td>1996</td>\n",
       "      <td>Animation|Children's|Musical James and the Gia...</td>\n",
       "      <td>animation child musical james giant peach 1996</td>\n",
       "    </tr>\n",
       "    <tr>\n",
       "      <th>2</th>\n",
       "      <td>1</td>\n",
       "      <td>914</td>\n",
       "      <td>3</td>\n",
       "      <td>978301968</td>\n",
       "      <td>My Fair Lady (1964)</td>\n",
       "      <td>Musical|Romance</td>\n",
       "      <td>F</td>\n",
       "      <td>1</td>\n",
       "      <td>10</td>\n",
       "      <td>48067</td>\n",
       "      <td>1964</td>\n",
       "      <td>Musical|Romance My Fair Lady (1964)</td>\n",
       "      <td>musical romance fair lady 1964</td>\n",
       "    </tr>\n",
       "    <tr>\n",
       "      <th>3</th>\n",
       "      <td>1</td>\n",
       "      <td>3408</td>\n",
       "      <td>4</td>\n",
       "      <td>978300275</td>\n",
       "      <td>Erin Brockovich (2000)</td>\n",
       "      <td>Drama</td>\n",
       "      <td>F</td>\n",
       "      <td>1</td>\n",
       "      <td>10</td>\n",
       "      <td>48067</td>\n",
       "      <td>2000</td>\n",
       "      <td>Drama Erin Brockovich (2000)</td>\n",
       "      <td>drama erin brockovich 2000</td>\n",
       "    </tr>\n",
       "    <tr>\n",
       "      <th>4</th>\n",
       "      <td>1</td>\n",
       "      <td>2355</td>\n",
       "      <td>5</td>\n",
       "      <td>978824291</td>\n",
       "      <td>Bug's Life, A (1998)</td>\n",
       "      <td>Animation|Children's|Comedy</td>\n",
       "      <td>F</td>\n",
       "      <td>1</td>\n",
       "      <td>10</td>\n",
       "      <td>48067</td>\n",
       "      <td>1998</td>\n",
       "      <td>Animation|Children's|Comedy Bug's Life, A (1998)</td>\n",
       "      <td>animation child comedy bug life 1998</td>\n",
       "    </tr>\n",
       "  </tbody>\n",
       "</table>\n",
       "</div>"
      ],
      "text/plain": [
       "   UserID  MovieID  Rating  Timestamp                                   Title  \\\n",
       "0       1     1193       5  978300760  One Flew Over the Cuckoo's Nest (1975)   \n",
       "1       1      661       3  978302109        James and the Giant Peach (1996)   \n",
       "2       1      914       3  978301968                     My Fair Lady (1964)   \n",
       "3       1     3408       4  978300275                  Erin Brockovich (2000)   \n",
       "4       1     2355       5  978824291                    Bug's Life, A (1998)   \n",
       "\n",
       "                          Genre Gender Age Occupation Zip-code  Year  \\\n",
       "0                         Drama      F   1         10    48067  1975   \n",
       "1  Animation|Children's|Musical      F   1         10    48067  1996   \n",
       "2               Musical|Romance      F   1         10    48067  1964   \n",
       "3                         Drama      F   1         10    48067  2000   \n",
       "4   Animation|Children's|Comedy      F   1         10    48067  1998   \n",
       "\n",
       "                                        unified_text  \\\n",
       "0       Drama One Flew Over the Cuckoo's Nest (1975)   \n",
       "1  Animation|Children's|Musical James and the Gia...   \n",
       "2                Musical|Romance My Fair Lady (1964)   \n",
       "3                       Drama Erin Brockovich (2000)   \n",
       "4   Animation|Children's|Comedy Bug's Life, A (1998)   \n",
       "\n",
       "                        unified_text_preprocessed  \n",
       "0                 drama one flew cuckoo nest 1975  \n",
       "1  animation child musical james giant peach 1996  \n",
       "2                  musical romance fair lady 1964  \n",
       "3                      drama erin brockovich 2000  \n",
       "4            animation child comedy bug life 1998  "
      ]
     },
     "execution_count": 158,
     "metadata": {},
     "output_type": "execute_result"
    }
   ],
   "source": [
    "df1[\"unified_text_preprocessed\"] = df1[\"unified_text\"].apply(lambda x: textCleaning(x))\n",
    "df1.head()"
   ]
  },
  {
   "cell_type": "markdown",
   "id": "c9da5a10",
   "metadata": {},
   "source": [
    "#### Bag of word"
   ]
  },
  {
   "cell_type": "code",
   "execution_count": 162,
   "id": "bbfdc55e",
   "metadata": {},
   "outputs": [
    {
     "data": {
      "text/html": [
       "<div>\n",
       "<style scoped>\n",
       "    .dataframe tbody tr th:only-of-type {\n",
       "        vertical-align: middle;\n",
       "    }\n",
       "\n",
       "    .dataframe tbody tr th {\n",
       "        vertical-align: top;\n",
       "    }\n",
       "\n",
       "    .dataframe thead th {\n",
       "        text-align: right;\n",
       "    }\n",
       "</style>\n",
       "<table border=\"1\" class=\"dataframe\">\n",
       "  <thead>\n",
       "    <tr style=\"text-align: right;\">\n",
       "      <th></th>\n",
       "      <th>unified_text_preprocessed</th>\n",
       "      <th>Title</th>\n",
       "    </tr>\n",
       "  </thead>\n",
       "  <tbody>\n",
       "    <tr>\n",
       "      <th>0</th>\n",
       "      <td>drama one flew cuckoo nest 1975</td>\n",
       "      <td>One Flew Over the Cuckoo's Nest (1975)</td>\n",
       "    </tr>\n",
       "    <tr>\n",
       "      <th>1</th>\n",
       "      <td>animation child musical james giant peach 1996</td>\n",
       "      <td>James and the Giant Peach (1996)</td>\n",
       "    </tr>\n",
       "    <tr>\n",
       "      <th>2</th>\n",
       "      <td>musical romance fair lady 1964</td>\n",
       "      <td>My Fair Lady (1964)</td>\n",
       "    </tr>\n",
       "    <tr>\n",
       "      <th>3</th>\n",
       "      <td>drama erin brockovich 2000</td>\n",
       "      <td>Erin Brockovich (2000)</td>\n",
       "    </tr>\n",
       "    <tr>\n",
       "      <th>4</th>\n",
       "      <td>animation child comedy bug life 1998</td>\n",
       "      <td>Bug's Life, A (1998)</td>\n",
       "    </tr>\n",
       "  </tbody>\n",
       "</table>\n",
       "</div>"
      ],
      "text/plain": [
       "                        unified_text_preprocessed  \\\n",
       "0                 drama one flew cuckoo nest 1975   \n",
       "1  animation child musical james giant peach 1996   \n",
       "2                  musical romance fair lady 1964   \n",
       "3                      drama erin brockovich 2000   \n",
       "4            animation child comedy bug life 1998   \n",
       "\n",
       "                                    Title  \n",
       "0  One Flew Over the Cuckoo's Nest (1975)  \n",
       "1        James and the Giant Peach (1996)  \n",
       "2                     My Fair Lady (1964)  \n",
       "3                  Erin Brockovich (2000)  \n",
       "4                    Bug's Life, A (1998)  "
      ]
     },
     "execution_count": 162,
     "metadata": {},
     "output_type": "execute_result"
    }
   ],
   "source": [
    "df1_movies = df1[[\"unified_text_preprocessed\", \"Title\"]].drop_duplicates()\n",
    "df1_movies.head()"
   ]
  },
  {
   "cell_type": "code",
   "execution_count": 164,
   "id": "af7edd66",
   "metadata": {},
   "outputs": [],
   "source": [
    "sentences = df1_movies[\"unified_text_preprocessed\"].values"
   ]
  },
  {
   "cell_type": "code",
   "execution_count": 165,
   "id": "9273b403",
   "metadata": {},
   "outputs": [],
   "source": [
    "from sklearn.feature_extraction.text import CountVectorizer\n",
    "\n",
    "vectorizer = CountVectorizer()\n",
    "vectorizer.fit(sentences)\n",
    "\n",
    "sentence_vector = vectorizer.transform(sentences)"
   ]
  },
  {
   "cell_type": "code",
   "execution_count": 183,
   "id": "f1a41068",
   "metadata": {},
   "outputs": [
    {
     "name": "stdout",
     "output_type": "stream",
     "text": [
      "  (0, 66)\t1\n",
      "  (0, 972)\t1\n",
      "  (0, 1158)\t1\n",
      "  (0, 1424)\t1\n",
      "  (0, 2537)\t1\n",
      "  (0, 2620)\t1\n",
      "  (1, 87)\t1\n",
      "  (1, 235)\t1\n",
      "  (1, 762)\t1\n",
      "  (1, 1547)\t1\n",
      "  (1, 1921)\t1\n",
      "  (1, 2485)\t1\n",
      "  (1, 2710)\t1\n",
      "  (2, 55)\t1\n",
      "  (2, 1310)\t1\n",
      "  (2, 2075)\t1\n",
      "  (2, 2485)\t1\n",
      "  (2, 3044)\t1\n",
      "  (3, 94)\t1\n",
      "  (3, 578)\t1\n",
      "  (3, 1158)\t1\n",
      "  (3, 1268)\t1\n",
      "  (4, 89)\t1\n",
      "  (4, 235)\t1\n",
      "  (4, 606)\t1\n",
      "  :\t:\n",
      "  (3699, 1088)\t1\n",
      "  (3700, 86)\t1\n",
      "  (3700, 145)\t1\n",
      "  (3700, 865)\t1\n",
      "  (3700, 1158)\t1\n",
      "  (3700, 2952)\t1\n",
      "  (3700, 3619)\t1\n",
      "  (3701, 64)\t1\n",
      "  (3701, 327)\t1\n",
      "  (3701, 1789)\t1\n",
      "  (3702, 94)\t1\n",
      "  (3702, 1158)\t1\n",
      "  (3702, 1481)\t1\n",
      "  (3702, 3084)\t1\n",
      "  (3703, 87)\t1\n",
      "  (3703, 843)\t1\n",
      "  (3703, 2624)\t1\n",
      "  (3703, 3165)\t1\n",
      "  (3704, 85)\t1\n",
      "  (3704, 173)\t1\n",
      "  (3704, 1158)\t1\n",
      "  (3704, 3877)\t1\n",
      "  (3705, 71)\t1\n",
      "  (3705, 1158)\t1\n",
      "  (3705, 3932)\t1\n"
     ]
    }
   ],
   "source": [
    "print(sentence_vector)"
   ]
  },
  {
   "cell_type": "code",
   "execution_count": 185,
   "id": "784f75e9",
   "metadata": {},
   "outputs": [
    {
     "data": {
      "text/plain": [
       "scipy.sparse.csr.csr_matrix"
      ]
     },
     "execution_count": 185,
     "metadata": {},
     "output_type": "execute_result"
    }
   ],
   "source": [
    "type(sentence_vector)"
   ]
  },
  {
   "cell_type": "code",
   "execution_count": 166,
   "id": "f29fcfa9",
   "metadata": {},
   "outputs": [],
   "source": [
    "def addTextVector(df_movies, sentence_vector):\n",
    "    ls = []\n",
    "    arr = sentence_vector.toarray()\n",
    "    for i in range(arr.shape[0]):\n",
    "        ls.append(arr[i])\n",
    "    df_movies[\"vector\"] = ls\n",
    "    return df_movies"
   ]
  },
  {
   "cell_type": "code",
   "execution_count": 169,
   "id": "5da98135",
   "metadata": {},
   "outputs": [],
   "source": [
    "df1_movies = addTextVector(df1_movies, sentence_vector)"
   ]
  },
  {
   "cell_type": "code",
   "execution_count": 170,
   "id": "5ab5e66c",
   "metadata": {},
   "outputs": [
    {
     "data": {
      "text/html": [
       "<div>\n",
       "<style scoped>\n",
       "    .dataframe tbody tr th:only-of-type {\n",
       "        vertical-align: middle;\n",
       "    }\n",
       "\n",
       "    .dataframe tbody tr th {\n",
       "        vertical-align: top;\n",
       "    }\n",
       "\n",
       "    .dataframe thead th {\n",
       "        text-align: right;\n",
       "    }\n",
       "</style>\n",
       "<table border=\"1\" class=\"dataframe\">\n",
       "  <thead>\n",
       "    <tr style=\"text-align: right;\">\n",
       "      <th></th>\n",
       "      <th>unified_text_preprocessed</th>\n",
       "      <th>Title</th>\n",
       "      <th>vector</th>\n",
       "    </tr>\n",
       "  </thead>\n",
       "  <tbody>\n",
       "    <tr>\n",
       "      <th>0</th>\n",
       "      <td>drama one flew cuckoo nest 1975</td>\n",
       "      <td>One Flew Over the Cuckoo's Nest (1975)</td>\n",
       "      <td>[0, 0, 0, 0, 0, 0, 0, 0, 0, 0, 0, 0, 0, 0, 0, ...</td>\n",
       "    </tr>\n",
       "    <tr>\n",
       "      <th>1</th>\n",
       "      <td>animation child musical james giant peach 1996</td>\n",
       "      <td>James and the Giant Peach (1996)</td>\n",
       "      <td>[0, 0, 0, 0, 0, 0, 0, 0, 0, 0, 0, 0, 0, 0, 0, ...</td>\n",
       "    </tr>\n",
       "    <tr>\n",
       "      <th>2</th>\n",
       "      <td>musical romance fair lady 1964</td>\n",
       "      <td>My Fair Lady (1964)</td>\n",
       "      <td>[0, 0, 0, 0, 0, 0, 0, 0, 0, 0, 0, 0, 0, 0, 0, ...</td>\n",
       "    </tr>\n",
       "    <tr>\n",
       "      <th>3</th>\n",
       "      <td>drama erin brockovich 2000</td>\n",
       "      <td>Erin Brockovich (2000)</td>\n",
       "      <td>[0, 0, 0, 0, 0, 0, 0, 0, 0, 0, 0, 0, 0, 0, 0, ...</td>\n",
       "    </tr>\n",
       "    <tr>\n",
       "      <th>4</th>\n",
       "      <td>animation child comedy bug life 1998</td>\n",
       "      <td>Bug's Life, A (1998)</td>\n",
       "      <td>[0, 0, 0, 0, 0, 0, 0, 0, 0, 0, 0, 0, 0, 0, 0, ...</td>\n",
       "    </tr>\n",
       "  </tbody>\n",
       "</table>\n",
       "</div>"
      ],
      "text/plain": [
       "                        unified_text_preprocessed  \\\n",
       "0                 drama one flew cuckoo nest 1975   \n",
       "1  animation child musical james giant peach 1996   \n",
       "2                  musical romance fair lady 1964   \n",
       "3                      drama erin brockovich 2000   \n",
       "4            animation child comedy bug life 1998   \n",
       "\n",
       "                                    Title  \\\n",
       "0  One Flew Over the Cuckoo's Nest (1975)   \n",
       "1        James and the Giant Peach (1996)   \n",
       "2                     My Fair Lady (1964)   \n",
       "3                  Erin Brockovich (2000)   \n",
       "4                    Bug's Life, A (1998)   \n",
       "\n",
       "                                              vector  \n",
       "0  [0, 0, 0, 0, 0, 0, 0, 0, 0, 0, 0, 0, 0, 0, 0, ...  \n",
       "1  [0, 0, 0, 0, 0, 0, 0, 0, 0, 0, 0, 0, 0, 0, 0, ...  \n",
       "2  [0, 0, 0, 0, 0, 0, 0, 0, 0, 0, 0, 0, 0, 0, 0, ...  \n",
       "3  [0, 0, 0, 0, 0, 0, 0, 0, 0, 0, 0, 0, 0, 0, 0, ...  \n",
       "4  [0, 0, 0, 0, 0, 0, 0, 0, 0, 0, 0, 0, 0, 0, 0, ...  "
      ]
     },
     "execution_count": 170,
     "metadata": {},
     "output_type": "execute_result"
    }
   ],
   "source": [
    "df1_movies.head()"
   ]
  },
  {
   "cell_type": "markdown",
   "id": "9eca4498",
   "metadata": {},
   "source": [
    "#### Word Embedding"
   ]
  },
  {
   "cell_type": "code",
   "execution_count": 187,
   "id": "3d57f6e0",
   "metadata": {},
   "outputs": [],
   "source": [
    "from gensim.models import Word2Vec\n",
    "from gensim.similarities import Similarity"
   ]
  },
  {
   "cell_type": "code",
   "execution_count": 188,
   "id": "586cc42f",
   "metadata": {},
   "outputs": [],
   "source": [
    "all_words = [nltk.word_tokenize(s) for s in sentences]"
   ]
  },
  {
   "cell_type": "code",
   "execution_count": 177,
   "id": "00900193",
   "metadata": {},
   "outputs": [],
   "source": [
    "word2vec = Word2Vec(all_words, min_count=1)\n",
    "vocabulary = list(word2vec.wv.index_to_key)\n",
    "v1 = word2vec.wv['story']"
   ]
  },
  {
   "cell_type": "code",
   "execution_count": 178,
   "id": "f05c454d",
   "metadata": {},
   "outputs": [
    {
     "data": {
      "text/plain": [
       "array([-0.06239826,  0.05460928,  0.03209926,  0.01942981,  0.01234408,\n",
       "       -0.14310224,  0.0596038 ,  0.189106  , -0.08528087, -0.08926269,\n",
       "       -0.00911913, -0.13944462,  0.00065584,  0.03911028,  0.02970334,\n",
       "       -0.05710608,  0.06563702, -0.08116353, -0.01505399, -0.20296876,\n",
       "        0.07211339,  0.03954473,  0.11748798, -0.06086905,  0.00420033,\n",
       "        0.02892687, -0.06512552,  0.01719428, -0.0819165 ,  0.00097466,\n",
       "        0.06843163, -0.02486857,  0.03149919, -0.10485697, -0.04682087,\n",
       "        0.07376784,  0.03671215, -0.04461177, -0.0691447 , -0.11411793,\n",
       "        0.01469259, -0.0744376 , -0.07250275,  0.03336517,  0.05786217,\n",
       "       -0.0389885 , -0.06141255, -0.06177918,  0.04166197,  0.0746275 ,\n",
       "        0.0584544 , -0.09153006, -0.02938132, -0.04136258, -0.02910458,\n",
       "        0.03154961,  0.06290667, -0.03001313, -0.04665437,  0.04541107,\n",
       "        0.00087536, -0.02573944,  0.03722024,  0.02657099, -0.12040618,\n",
       "        0.11325517, -0.02040787,  0.06933329, -0.10404142,  0.11338755,\n",
       "       -0.02079149,  0.05149979,  0.10892561,  0.01865298,  0.07576787,\n",
       "        0.0408557 ,  0.02208435,  0.00316566, -0.06493291,  0.00123397,\n",
       "       -0.06447071,  0.02279413, -0.08020367,  0.09511162, -0.03288568,\n",
       "       -0.07226268,  0.05587645,  0.05505993,  0.04289804,  0.01927341,\n",
       "        0.10865585,  0.06074132,  0.04632215, -0.00263685,  0.12268809,\n",
       "        0.07155824,  0.03349531, -0.04582444, -0.00950842, -0.00060188],\n",
       "      dtype=float32)"
      ]
     },
     "execution_count": 178,
     "metadata": {},
     "output_type": "execute_result"
    }
   ],
   "source": [
    "v1"
   ]
  },
  {
   "cell_type": "code",
   "execution_count": 179,
   "id": "52eb04ed",
   "metadata": {},
   "outputs": [
    {
     "data": {
      "text/plain": [
       "array([-5.9397986e-05, -4.5643449e-03, -6.7870296e-03, -3.6500266e-03,\n",
       "       -2.7757003e-03,  5.3274864e-03, -8.0399131e-03, -7.3326076e-03,\n",
       "        2.7060495e-03,  4.4663581e-03, -1.6590269e-04, -8.0050086e-06,\n",
       "        9.1847973e-03, -8.8585466e-03, -3.4240326e-03,  9.8133879e-03,\n",
       "        6.9512664e-03, -9.2683248e-03,  6.2860469e-03,  7.6425127e-03,\n",
       "        9.9290377e-03,  5.2365763e-03,  2.0629897e-04, -3.9716824e-03,\n",
       "       -1.0042183e-02, -8.9566233e-03,  7.5248429e-03, -3.7467333e-05,\n",
       "       -5.5725533e-03, -3.6005888e-03,  4.4963467e-03, -1.6080925e-03,\n",
       "       -4.1779137e-04,  9.9002430e-03, -7.7313213e-03, -4.2599244e-03,\n",
       "       -9.5388452e-03, -6.2156981e-03,  4.1080406e-04, -4.9990467e-03,\n",
       "        5.9120585e-03, -2.3264057e-04,  8.6491723e-03,  7.3738750e-03,\n",
       "        1.1672517e-03,  1.5530080e-03, -6.1273472e-03,  1.1029878e-03,\n",
       "       -5.5514514e-03,  2.9769756e-03, -8.3759325e-03,  1.3406773e-03,\n",
       "        5.6360443e-03,  5.7889335e-04, -3.7104436e-03, -1.4028165e-03,\n",
       "        8.2177892e-03, -2.8861316e-03, -8.8633867e-03, -7.3467153e-03,\n",
       "        3.4053286e-03, -5.9559736e-03,  2.2377770e-03,  1.3438406e-03,\n",
       "        8.2090208e-03, -9.7474791e-03, -7.9796221e-03, -9.0449145e-03,\n",
       "       -6.3703456e-03,  9.1243293e-03,  1.8376921e-03,  4.2091194e-03,\n",
       "       -1.1941884e-03,  3.6504893e-03,  1.3844535e-03,  9.0899086e-03,\n",
       "        6.1425269e-03,  9.1852350e-03, -3.5013626e-03,  9.3636224e-03,\n",
       "        6.2771048e-03,  9.2116324e-03, -2.4418654e-03, -4.7144922e-03,\n",
       "       -2.1798927e-03, -5.9424983e-03,  8.6460152e-04,  6.5436312e-03,\n",
       "        4.4037807e-03, -2.5161211e-03, -4.5107319e-03,  8.5010874e-04,\n",
       "        4.0425826e-03, -2.1483251e-03,  2.0190210e-03, -1.8162264e-03,\n",
       "        4.5641470e-03, -9.5148971e-03,  8.0340318e-03, -4.2283935e-03],\n",
       "      dtype=float32)"
      ]
     },
     "execution_count": 179,
     "metadata": {},
     "output_type": "execute_result"
    }
   ],
   "source": [
    "v2 = word2vec.wv['toy']\n",
    "v2"
   ]
  },
  {
   "cell_type": "markdown",
   "id": "ca27a285",
   "metadata": {},
   "source": [
    "#### 1. For a given user, find 5 movies with highest ratings that were most recently watched by the user\n",
    "#### 2. For each movie in above list, compute cosine similarities against the movies not yet watched by the user\n",
    "#### 3. For each movie in above list, return 2 movies with highest similarity scores"
   ]
  },
  {
   "cell_type": "code",
   "execution_count": 192,
   "id": "c192a5f2",
   "metadata": {},
   "outputs": [],
   "source": [
    "all_movies = list(df[\"Title\"].unique())"
   ]
  },
  {
   "cell_type": "code",
   "execution_count": 193,
   "id": "e0b6eef9",
   "metadata": {},
   "outputs": [],
   "source": [
    "def cosSim(a, b):\n",
    "    return dot(a, b)/(norm(a)*norm(b))"
   ]
  },
  {
   "cell_type": "code",
   "execution_count": 194,
   "id": "0528b18b",
   "metadata": {},
   "outputs": [],
   "source": [
    "def createMovieList(df_movies, UserID, movies = all_movies):\n",
    "    movies_seen = df.loc[df.UserID == UserID, :][\"Title\"].unique()\n",
    "    movies_not_seen = []\n",
    "    for movie in all_movies:\n",
    "        if movie not in movies_seen:\n",
    "            movies_not_seen.append(movie)\n",
    "    df_movie_not_seen = pd.DataFrame({\"Title\": movies_not_seen})\n",
    "    df_output = df_movies[[\"Title\", \"unified_text_preprocessed\", \"vector\"]].merge(df_movie_not_seen, left_on = \"Title\", right_on = \"Title\")\n",
    "    return df_output"
   ]
  },
  {
   "cell_type": "code",
   "execution_count": 197,
   "id": "f8837d87",
   "metadata": {},
   "outputs": [],
   "source": [
    "def findMovieSimilarity(model, movie_name1, movie_name2):\n",
    "    v1 = v2 = np.zeros(100)\n",
    "    l1 = movie_name1.split(\" \")\n",
    "    l2 = movie_name2.split(\" \")\n",
    "    for m1 in l1:\n",
    "        if m1 in vocabulary:\n",
    "            v1 = v1 + model.wv[m1]\n",
    "    for m2 in l2:\n",
    "        if m2 in vocabulary:\n",
    "            v2 = v2 + model.wv[m2]\n",
    "    sim = cosSim(v1, v2)\n",
    "    return sim"
   ]
  },
  {
   "cell_type": "code",
   "execution_count": 198,
   "id": "10ca7967",
   "metadata": {},
   "outputs": [],
   "source": [
    "def movieRecommender1(df, UserID):\n",
    "    # get 5 movies with highest ratings that were most recently watched by the user \n",
    "    top_movies_list = df.loc[df.UserID == UserID, :].sort_values([\"Rating\", \"Timestamp\"], ascending = False).head().unified_text_preprocessed.values\n",
    "    \n",
    "    # get the list of movies that haven't been watched by this user\n",
    "    df_unwatched_movie_list = createMovieList(df_movies, UserID)\n",
    "    df_unwatched_movie_list.reset_index(inplace = True)\n",
    "    recommendations = []\n",
    "    \n",
    "    # calculate the similarty between unwatched movies and the 5 movies \n",
    "    for m1 in top_movies_list:\n",
    "        ls_sim = []\n",
    "        for i in range(df_unwatched_movie_list.shape[0]):\n",
    "            m2 = df_unwatched_movie_list.iloc[i, :][\"unified_text_preprocessed\"]\n",
    "            \n",
    "            # calculate cosine similarity between the two word2vec vectors\n",
    "            sim = findMovieSimilarity(word2vec, m1, m2)\n",
    "            ls_sim.append([sim, df_unwatched_movie_list.iloc[i, :][\"Title\"]])\n",
    "        ls_sim.sort(key = lambda x: x[0], reverse = True)\n",
    "        \n",
    "        # append top 2 most similar movies to the recommendation list\n",
    "        recommendations.append(ls_sim[0][1])\n",
    "        recommendations.append(ls_sim[1][1])\n",
    "    return recommendations"
   ]
  },
  {
   "cell_type": "code",
   "execution_count": 199,
   "id": "75f10c6b",
   "metadata": {},
   "outputs": [],
   "source": [
    "def movieRecommender2(df, UserID):\n",
    "    # get 5 movies with highest ratings that were most recently watched by the user \n",
    "    top_movies_list = df.loc[df.UserID == UserID, :].sort_values([\"Rating\", \"Timestamp\"], ascending = False).head().Title.values\n",
    "    \n",
    "    # get the list of movies that haven't been watched by this user\n",
    "    df_unwatched_movie_list = createMovieList(df_movies, UserID)\n",
    "    df_unwatched_movie_list.reset_index(inplace = True)\n",
    "    recommendations = []\n",
    "    \n",
    "    # calculate the similarty between unwatched movies and the 5 movies \n",
    "    for m1 in top_movies_list:\n",
    "        v1 = df_movies.loc[df_movies.Title == m1, :][\"vector\"].values[0]\n",
    "        ls_sim = []\n",
    "        for i in range(df_unwatched_movie_list.shape[0]):\n",
    "            v2 = df_unwatched_movie_list.iloc[i, :][\"vector\"]\n",
    "            \n",
    "            # calculate cosine similarity between the two BOW vectors\n",
    "            sim = cosSim(v1, v2)\n",
    "            ls_sim.append([sim, df_unwatched_movie_list.iloc[i, :][\"Title\"]])\n",
    "        ls_sim.sort(key = lambda x: x[0], reverse = True)\n",
    "        recommendations.append(ls_sim[0][1])\n",
    "        recommendations.append(ls_sim[1][1])\n",
    "    return recommendations"
   ]
  },
  {
   "cell_type": "code",
   "execution_count": 201,
   "id": "eab303b7",
   "metadata": {},
   "outputs": [
    {
     "data": {
      "text/plain": [
       "['Goofy Movie, A (1995)',\n",
       " 'Little Mermaid, The (1989)',\n",
       " 'Rugrats Movie, The (1998)',\n",
       " 'Paulie (1998)',\n",
       " 'Sleeping Beauty (1959)',\n",
       " 'All Dogs Go to Heaven 2 (1996)',\n",
       " 'Goofy Movie, A (1995)',\n",
       " 'Paulie (1998)',\n",
       " 'War, The (1994)',\n",
       " 'Truce, The (1996)']"
      ]
     },
     "execution_count": 201,
     "metadata": {},
     "output_type": "execute_result"
    }
   ],
   "source": [
    "rec = movieRecommender1(df1, 1)\n",
    "rec"
   ]
  },
  {
   "cell_type": "code",
   "execution_count": 202,
   "id": "04ab235b",
   "metadata": {},
   "outputs": [
    {
     "data": {
      "text/plain": [
       "['Goofy Movie, A (1995)',\n",
       " 'Balto (1995)',\n",
       " 'Rugrats Movie, The (1998)',\n",
       " 'Madeline (1998)',\n",
       " 'Sleeping Beauty (1959)',\n",
       " 'Anastasia (1997)',\n",
       " 'Goofy Movie, A (1995)',\n",
       " 'Balto (1995)',\n",
       " 'Swing Kids (1993)',\n",
       " 'Heaven & Earth (1993)']"
      ]
     },
     "execution_count": 202,
     "metadata": {},
     "output_type": "execute_result"
    }
   ],
   "source": [
    "rec2 = movieRecommender2(df1, 1)\n",
    "rec2"
   ]
  },
  {
   "cell_type": "markdown",
   "id": "ecde7fee",
   "metadata": {},
   "source": [
    "##### The recommendation from BOW and word embedding is different"
   ]
  },
  {
   "cell_type": "markdown",
   "id": "d184cd3f",
   "metadata": {},
   "source": [
    "#### Find top n similar movies for a given movie"
   ]
  },
  {
   "cell_type": "code",
   "execution_count": 203,
   "id": "bbc5827b",
   "metadata": {},
   "outputs": [],
   "source": [
    "def findMostSimilarMovies(df, movie_name, top_n):\n",
    "    df_temp = df[[\"Title\", \"unified_text_preprocessed\"]].drop_duplicates()\n",
    "    df_temp.reset_index(inplace = True)\n",
    "    processed_name = df_temp.loc[df_temp.Title == movie_name, :][\"unified_text_preprocessed\"]\n",
    "    ls_sim = []\n",
    "    for i in range(df_temp.shape[0]):\n",
    "        if df_temp.iloc[i, :][\"Title\"] != movie_name:\n",
    "            sim = findMovieSimilarity(word2vec, list(processed_name.values)[0], df_temp.iloc[i, :][\"unified_text_preprocessed\"])\n",
    "#             print(sim, df_temp[i, :][\"Title\"])\n",
    "            ls_sim.append([sim, df_temp.iloc[i, :][\"Title\"]])\n",
    "    ls_sim.sort(key = lambda x: x[0], reverse = True)\n",
    "    top_sim = []\n",
    "    for i in range(top_n):\n",
    "        top_sim.append(ls_sim[i][1])\n",
    "    return top_sim"
   ]
  },
  {
   "cell_type": "code",
   "execution_count": 205,
   "id": "ec5d1732",
   "metadata": {},
   "outputs": [
    {
     "data": {
      "text/plain": [
       "['Toy Story 2 (1999)',\n",
       " 'Goofy Movie, A (1995)',\n",
       " \"Bug's Life, A (1998)\",\n",
       " 'Paulie (1998)',\n",
       " 'Babe (1995)',\n",
       " 'Problem Child (1990)',\n",
       " 'Little Mermaid, The (1989)',\n",
       " 'Hercules (1997)',\n",
       " 'Pocahontas (1995)',\n",
       " 'Close Shave, A (1995)']"
      ]
     },
     "execution_count": 205,
     "metadata": {},
     "output_type": "execute_result"
    }
   ],
   "source": [
    "findMostSimilarMovies(df1, \"Toy Story (1995)\", 10)"
   ]
  },
  {
   "cell_type": "markdown",
   "id": "54ac3dff",
   "metadata": {},
   "source": [
    "### Collaborative Filtering (CF) - ItemCF"
   ]
  },
  {
   "cell_type": "markdown",
   "id": "b426e6d6",
   "metadata": {},
   "source": [
    "#### Compute movie-movie similarity score"
   ]
  },
  {
   "cell_type": "code",
   "execution_count": 333,
   "id": "2f1104e9",
   "metadata": {},
   "outputs": [],
   "source": [
    "from scipy.sparse import csr_matrix"
   ]
  },
  {
   "cell_type": "code",
   "execution_count": 334,
   "id": "3152f5c4",
   "metadata": {},
   "outputs": [],
   "source": [
    "df_movie_features = df_ratings.pivot(\n",
    "    index='MovieID',\n",
    "    columns='UserID',\n",
    "    values='Rating'\n",
    ")"
   ]
  },
  {
   "cell_type": "code",
   "execution_count": 335,
   "id": "5fdccd53",
   "metadata": {},
   "outputs": [],
   "source": [
    "df_movie_features = df_movie_features.T.fillna(df_movie_features.mean(axis = 0)).T"
   ]
  },
  {
   "cell_type": "code",
   "execution_count": 336,
   "id": "532c74a5",
   "metadata": {},
   "outputs": [
    {
     "data": {
      "text/html": [
       "<div>\n",
       "<style scoped>\n",
       "    .dataframe tbody tr th:only-of-type {\n",
       "        vertical-align: middle;\n",
       "    }\n",
       "\n",
       "    .dataframe tbody tr th {\n",
       "        vertical-align: top;\n",
       "    }\n",
       "\n",
       "    .dataframe thead th {\n",
       "        text-align: right;\n",
       "    }\n",
       "</style>\n",
       "<table border=\"1\" class=\"dataframe\">\n",
       "  <thead>\n",
       "    <tr style=\"text-align: right;\">\n",
       "      <th>UserID</th>\n",
       "      <th>1</th>\n",
       "      <th>2</th>\n",
       "      <th>3</th>\n",
       "      <th>4</th>\n",
       "      <th>5</th>\n",
       "      <th>6</th>\n",
       "      <th>7</th>\n",
       "      <th>8</th>\n",
       "      <th>9</th>\n",
       "      <th>10</th>\n",
       "      <th>...</th>\n",
       "      <th>6031</th>\n",
       "      <th>6032</th>\n",
       "      <th>6033</th>\n",
       "      <th>6034</th>\n",
       "      <th>6035</th>\n",
       "      <th>6036</th>\n",
       "      <th>6037</th>\n",
       "      <th>6038</th>\n",
       "      <th>6039</th>\n",
       "      <th>6040</th>\n",
       "    </tr>\n",
       "    <tr>\n",
       "      <th>MovieID</th>\n",
       "      <th></th>\n",
       "      <th></th>\n",
       "      <th></th>\n",
       "      <th></th>\n",
       "      <th></th>\n",
       "      <th></th>\n",
       "      <th></th>\n",
       "      <th></th>\n",
       "      <th></th>\n",
       "      <th></th>\n",
       "      <th></th>\n",
       "      <th></th>\n",
       "      <th></th>\n",
       "      <th></th>\n",
       "      <th></th>\n",
       "      <th></th>\n",
       "      <th></th>\n",
       "      <th></th>\n",
       "      <th></th>\n",
       "      <th></th>\n",
       "      <th></th>\n",
       "    </tr>\n",
       "  </thead>\n",
       "  <tbody>\n",
       "    <tr>\n",
       "      <th>1</th>\n",
       "      <td>5.000000</td>\n",
       "      <td>4.188679</td>\n",
       "      <td>4.188679</td>\n",
       "      <td>4.188679</td>\n",
       "      <td>4.188679</td>\n",
       "      <td>4.000000</td>\n",
       "      <td>4.188679</td>\n",
       "      <td>4.000000</td>\n",
       "      <td>5.000000</td>\n",
       "      <td>5.000000</td>\n",
       "      <td>...</td>\n",
       "      <td>4.188679</td>\n",
       "      <td>4.000000</td>\n",
       "      <td>4.188679</td>\n",
       "      <td>4.188679</td>\n",
       "      <td>4.000000</td>\n",
       "      <td>4.188679</td>\n",
       "      <td>4.188679</td>\n",
       "      <td>4.188679</td>\n",
       "      <td>4.188679</td>\n",
       "      <td>3.000000</td>\n",
       "    </tr>\n",
       "    <tr>\n",
       "      <th>2</th>\n",
       "      <td>3.713178</td>\n",
       "      <td>3.713178</td>\n",
       "      <td>3.713178</td>\n",
       "      <td>3.713178</td>\n",
       "      <td>3.713178</td>\n",
       "      <td>3.713178</td>\n",
       "      <td>3.713178</td>\n",
       "      <td>3.713178</td>\n",
       "      <td>3.713178</td>\n",
       "      <td>5.000000</td>\n",
       "      <td>...</td>\n",
       "      <td>3.713178</td>\n",
       "      <td>3.713178</td>\n",
       "      <td>3.713178</td>\n",
       "      <td>3.713178</td>\n",
       "      <td>3.713178</td>\n",
       "      <td>3.713178</td>\n",
       "      <td>3.713178</td>\n",
       "      <td>3.713178</td>\n",
       "      <td>3.713178</td>\n",
       "      <td>3.713178</td>\n",
       "    </tr>\n",
       "    <tr>\n",
       "      <th>3</th>\n",
       "      <td>3.901961</td>\n",
       "      <td>3.901961</td>\n",
       "      <td>3.901961</td>\n",
       "      <td>3.901961</td>\n",
       "      <td>3.901961</td>\n",
       "      <td>3.901961</td>\n",
       "      <td>3.901961</td>\n",
       "      <td>3.901961</td>\n",
       "      <td>3.901961</td>\n",
       "      <td>3.901961</td>\n",
       "      <td>...</td>\n",
       "      <td>3.901961</td>\n",
       "      <td>3.901961</td>\n",
       "      <td>3.901961</td>\n",
       "      <td>3.901961</td>\n",
       "      <td>1.000000</td>\n",
       "      <td>3.901961</td>\n",
       "      <td>3.901961</td>\n",
       "      <td>3.901961</td>\n",
       "      <td>3.901961</td>\n",
       "      <td>3.901961</td>\n",
       "    </tr>\n",
       "    <tr>\n",
       "      <th>4</th>\n",
       "      <td>4.190476</td>\n",
       "      <td>4.190476</td>\n",
       "      <td>4.190476</td>\n",
       "      <td>4.190476</td>\n",
       "      <td>4.190476</td>\n",
       "      <td>4.190476</td>\n",
       "      <td>4.190476</td>\n",
       "      <td>3.000000</td>\n",
       "      <td>4.190476</td>\n",
       "      <td>4.190476</td>\n",
       "      <td>...</td>\n",
       "      <td>4.190476</td>\n",
       "      <td>4.190476</td>\n",
       "      <td>4.190476</td>\n",
       "      <td>4.190476</td>\n",
       "      <td>2.000000</td>\n",
       "      <td>2.000000</td>\n",
       "      <td>4.190476</td>\n",
       "      <td>4.190476</td>\n",
       "      <td>4.190476</td>\n",
       "      <td>4.190476</td>\n",
       "    </tr>\n",
       "    <tr>\n",
       "      <th>5</th>\n",
       "      <td>3.146465</td>\n",
       "      <td>3.146465</td>\n",
       "      <td>3.146465</td>\n",
       "      <td>3.146465</td>\n",
       "      <td>3.146465</td>\n",
       "      <td>3.146465</td>\n",
       "      <td>3.146465</td>\n",
       "      <td>3.146465</td>\n",
       "      <td>3.146465</td>\n",
       "      <td>3.146465</td>\n",
       "      <td>...</td>\n",
       "      <td>3.146465</td>\n",
       "      <td>3.146465</td>\n",
       "      <td>3.146465</td>\n",
       "      <td>3.146465</td>\n",
       "      <td>1.000000</td>\n",
       "      <td>3.146465</td>\n",
       "      <td>3.146465</td>\n",
       "      <td>3.146465</td>\n",
       "      <td>3.146465</td>\n",
       "      <td>3.146465</td>\n",
       "    </tr>\n",
       "  </tbody>\n",
       "</table>\n",
       "<p>5 rows × 6040 columns</p>\n",
       "</div>"
      ],
      "text/plain": [
       "UserID       1         2         3         4         5         6         7     \\\n",
       "MovieID                                                                         \n",
       "1        5.000000  4.188679  4.188679  4.188679  4.188679  4.000000  4.188679   \n",
       "2        3.713178  3.713178  3.713178  3.713178  3.713178  3.713178  3.713178   \n",
       "3        3.901961  3.901961  3.901961  3.901961  3.901961  3.901961  3.901961   \n",
       "4        4.190476  4.190476  4.190476  4.190476  4.190476  4.190476  4.190476   \n",
       "5        3.146465  3.146465  3.146465  3.146465  3.146465  3.146465  3.146465   \n",
       "\n",
       "UserID       8         9         10    ...      6031      6032      6033  \\\n",
       "MovieID                                ...                                 \n",
       "1        4.000000  5.000000  5.000000  ...  4.188679  4.000000  4.188679   \n",
       "2        3.713178  3.713178  5.000000  ...  3.713178  3.713178  3.713178   \n",
       "3        3.901961  3.901961  3.901961  ...  3.901961  3.901961  3.901961   \n",
       "4        3.000000  4.190476  4.190476  ...  4.190476  4.190476  4.190476   \n",
       "5        3.146465  3.146465  3.146465  ...  3.146465  3.146465  3.146465   \n",
       "\n",
       "UserID       6034      6035      6036      6037      6038      6039      6040  \n",
       "MovieID                                                                        \n",
       "1        4.188679  4.000000  4.188679  4.188679  4.188679  4.188679  3.000000  \n",
       "2        3.713178  3.713178  3.713178  3.713178  3.713178  3.713178  3.713178  \n",
       "3        3.901961  1.000000  3.901961  3.901961  3.901961  3.901961  3.901961  \n",
       "4        4.190476  2.000000  2.000000  4.190476  4.190476  4.190476  4.190476  \n",
       "5        3.146465  1.000000  3.146465  3.146465  3.146465  3.146465  3.146465  \n",
       "\n",
       "[5 rows x 6040 columns]"
      ]
     },
     "execution_count": 336,
     "metadata": {},
     "output_type": "execute_result"
    }
   ],
   "source": [
    "df_movie_features.head()"
   ]
  },
  {
   "cell_type": "code",
   "execution_count": 337,
   "id": "61f1aa8a",
   "metadata": {},
   "outputs": [
    {
     "data": {
      "text/plain": [
       "(3706, 6040)"
      ]
     },
     "execution_count": 337,
     "metadata": {},
     "output_type": "execute_result"
    }
   ],
   "source": [
    "df_movie_features.shape"
   ]
  },
  {
   "cell_type": "code",
   "execution_count": 338,
   "id": "529fb170",
   "metadata": {},
   "outputs": [],
   "source": [
    "movie_user_mat_sparse = csr_matrix(df_movie_features.values)"
   ]
  },
  {
   "cell_type": "code",
   "execution_count": 339,
   "id": "23d8f88b",
   "metadata": {},
   "outputs": [],
   "source": [
    "movie_dict = {movie: i for i, movie in enumerate(list(df_movies.set_index('MovieID').loc[df_movie_features.index].Title))}"
   ]
  },
  {
   "cell_type": "markdown",
   "id": "6c6eab1a",
   "metadata": {},
   "source": [
    "#### ItemCF Movie Recommender"
   ]
  },
  {
   "cell_type": "code",
   "execution_count": 340,
   "id": "3d628472",
   "metadata": {},
   "outputs": [],
   "source": [
    "def findSimilarMovies(fav_movie, n_recommendations, data = movie_user_mat_sparse, hashmap = movie_dict):\n",
    "    from sklearn.neighbors import NearestNeighbors\n",
    "    model = NearestNeighbors(metric='cosine', algorithm='brute', n_neighbors=20, n_jobs=-1)\n",
    "    # fit KNN model\n",
    "    model.fit(data)\n",
    "    idx = hashmap[fav_movie]\n",
    "    \n",
    "    # find nearest neighbors based on cosine similarity for a fav_movie\n",
    "    distances, indices = model.kneighbors(\n",
    "        data[idx],\n",
    "        n_neighbors=n_recommendations + 1)\n",
    "    \n",
    "    # return recommendation (movieId, distance)\n",
    "    raw_recommends = list(zip(indices.squeeze().tolist(),distances.squeeze().tolist()))#\n",
    "    raw_recommends.sort(key=lambda x: x[1], reverse = True)\n",
    "    reverse_hashmap = {v: k for k, v in hashmap.items()}\n",
    "    recommendations = []\n",
    "    for i, (idx, dist) in enumerate(raw_recommends):\n",
    "        recommendations.append(reverse_hashmap[idx])\n",
    "    recommendations.remove(fav_movie)\n",
    "    return recommendations"
   ]
  },
  {
   "cell_type": "code",
   "execution_count": 341,
   "id": "408dac61",
   "metadata": {},
   "outputs": [],
   "source": [
    "def movieRecommender1(df, UserID):\n",
    "    # get 5 movies with highest ratings that were most recently watched by the user \n",
    "    top_movies_list = df.loc[df.UserID == UserID, :].sort_values([\"Rating\", \"Timestamp\"], ascending = False).head().Title.values\n",
    "    \n",
    "    # get the list of movies that haven't been watched by this user\n",
    "    df_unwatched_movie_list = createMovieList(df, UserID)\n",
    "    df_unwatched_movie_list.reset_index(inplace = True)\n",
    "    recommendations = set()\n",
    "    \n",
    "    # calculate the similarty between unwatched movies and the 5 movies\n",
    "    for m in top_movies_list:\n",
    "        rec = findSimilarMovies(m, 2)\n",
    "        for i in rec:\n",
    "            recommendations.add(i)\n",
    "    \n",
    "    return recommendations"
   ]
  },
  {
   "cell_type": "code",
   "execution_count": 342,
   "id": "8c506419",
   "metadata": {},
   "outputs": [
    {
     "data": {
      "text/plain": [
       "{'Bandits (1997)',\n",
       " 'Big Combo, The (1955)',\n",
       " 'Choices (1981)',\n",
       " 'Little Lord Fauntleroy (1936)',\n",
       " 'Little Men (1998)',\n",
       " 'Man from Down Under, The (1943)',\n",
       " 'Small Wonders (1996)',\n",
       " 'Stag (1997)',\n",
       " 'War at Home, The (1996)',\n",
       " 'Wings of Courage (1995)'}"
      ]
     },
     "execution_count": 342,
     "metadata": {},
     "output_type": "execute_result"
    }
   ],
   "source": [
    "rec = movieRecommender1(df, 1)\n",
    "rec"
   ]
  },
  {
   "cell_type": "code",
   "execution_count": 343,
   "id": "70ae56d8",
   "metadata": {},
   "outputs": [],
   "source": [
    "def cosSim1(a, b):\n",
    "    return dot(a, b)/(norm(a.toarray())*norm(b.toarray()))"
   ]
  },
  {
   "cell_type": "code",
   "execution_count": 344,
   "id": "4e0f18e4",
   "metadata": {},
   "outputs": [],
   "source": [
    "def movieRecommender2(df, UserID):\n",
    "    # get 5 movies with highest ratings that were most recently watched by the user \n",
    "    top_movies_list = df.loc[df.UserID == UserID, :].sort_values([\"Rating\", \"Timestamp\"], ascending = False).head().Title.values\n",
    "    \n",
    "    # get the list of movies that haven't been watched by this user\n",
    "    df_unwatched_movie_list = createMovieList(df_movies, UserID)\n",
    "    df_unwatched_movie_list.reset_index(inplace = True)\n",
    "    recommendations = set()\n",
    "    \n",
    "    # calculate the similarty between unwatched movies and the 5 movies \n",
    "    for m1 in top_movies_list:\n",
    "        v1 = movie_user_mat_sparse[movie_dict[m1]]\n",
    "        ls_sim = []\n",
    "        for i in range(df_unwatched_movie_list.shape[0]):\n",
    "            m2 = df_unwatched_movie_list.iloc[i, :][\"Title\"]\n",
    "            v2 = movie_user_mat_sparse[movie_dict[m2]]\n",
    "            # calculate cosine similarity between the movie rating vectors\n",
    "            sim = cosSim1(v1, v2.T)\n",
    "            ls_sim.append([sim, df_unwatched_movie_list.iloc[i, :][\"Title\"]])\n",
    "        ls_sim.sort(key = lambda x: x[0], reverse = True)\n",
    "        \n",
    "        # append top 2 most similar movies to the recommendation list\n",
    "        recommendations.add(ls_sim[0][1])\n",
    "        recommendations.add(ls_sim[1][1])\n",
    "    return recommendations"
   ]
  },
  {
   "cell_type": "code",
   "execution_count": 345,
   "id": "a050db14",
   "metadata": {},
   "outputs": [
    {
     "data": {
      "text/plain": [
       "{'Bandits (1997)',\n",
       " 'Big Combo, The (1955)',\n",
       " 'Choices (1981)',\n",
       " 'Little Lord Fauntleroy (1936)',\n",
       " 'Little Men (1998)',\n",
       " 'Man from Down Under, The (1943)',\n",
       " 'Small Wonders (1996)',\n",
       " 'Stag (1997)',\n",
       " 'War at Home, The (1996)',\n",
       " 'Wings of Courage (1995)'}"
      ]
     },
     "execution_count": 345,
     "metadata": {},
     "output_type": "execute_result"
    }
   ],
   "source": [
    "rec2 = movieRecommender2(df, 1)\n",
    "rec"
   ]
  },
  {
   "cell_type": "markdown",
   "id": "4523352d",
   "metadata": {},
   "source": [
    "### UserCF"
   ]
  },
  {
   "cell_type": "code",
   "execution_count": 346,
   "id": "cbdf6f29",
   "metadata": {},
   "outputs": [],
   "source": [
    "m = createMovieList(df_movies, 1)"
   ]
  },
  {
   "cell_type": "code",
   "execution_count": 347,
   "id": "ba0b43cb",
   "metadata": {},
   "outputs": [
    {
     "data": {
      "text/html": [
       "<div>\n",
       "<style scoped>\n",
       "    .dataframe tbody tr th:only-of-type {\n",
       "        vertical-align: middle;\n",
       "    }\n",
       "\n",
       "    .dataframe tbody tr th {\n",
       "        vertical-align: top;\n",
       "    }\n",
       "\n",
       "    .dataframe thead th {\n",
       "        text-align: right;\n",
       "    }\n",
       "</style>\n",
       "<table border=\"1\" class=\"dataframe\">\n",
       "  <thead>\n",
       "    <tr style=\"text-align: right;\">\n",
       "      <th></th>\n",
       "      <th>Title</th>\n",
       "    </tr>\n",
       "  </thead>\n",
       "  <tbody>\n",
       "    <tr>\n",
       "      <th>0</th>\n",
       "      <td>Jumanji (1995)</td>\n",
       "    </tr>\n",
       "    <tr>\n",
       "      <th>1</th>\n",
       "      <td>Grumpier Old Men (1995)</td>\n",
       "    </tr>\n",
       "    <tr>\n",
       "      <th>2</th>\n",
       "      <td>Waiting to Exhale (1995)</td>\n",
       "    </tr>\n",
       "    <tr>\n",
       "      <th>3</th>\n",
       "      <td>Father of the Bride Part II (1995)</td>\n",
       "    </tr>\n",
       "    <tr>\n",
       "      <th>4</th>\n",
       "      <td>Heat (1995)</td>\n",
       "    </tr>\n",
       "  </tbody>\n",
       "</table>\n",
       "</div>"
      ],
      "text/plain": [
       "                                Title\n",
       "0                      Jumanji (1995)\n",
       "1             Grumpier Old Men (1995)\n",
       "2            Waiting to Exhale (1995)\n",
       "3  Father of the Bride Part II (1995)\n",
       "4                         Heat (1995)"
      ]
     },
     "execution_count": 347,
     "metadata": {},
     "output_type": "execute_result"
    }
   ],
   "source": [
    "m.head()"
   ]
  },
  {
   "cell_type": "code",
   "execution_count": 348,
   "id": "719fd3ec",
   "metadata": {},
   "outputs": [
    {
     "data": {
      "text/plain": [
       "<1x3706 sparse matrix of type '<class 'numpy.float64'>'\n",
       "\twith 3706 stored elements in Compressed Sparse Column format>"
      ]
     },
     "execution_count": 348,
     "metadata": {},
     "output_type": "execute_result"
    }
   ],
   "source": [
    "movie_user_mat_sparse[:,1].T"
   ]
  },
  {
   "cell_type": "code",
   "execution_count": 349,
   "id": "b0c6f93b",
   "metadata": {},
   "outputs": [],
   "source": [
    "def movieRecommender(df, UserID):\n",
    "    # get the list of movies that haven't been watched by this user\n",
    "    df_unwatched_movie_list = createMovieList(df_movies, UserID)\n",
    "    df_unwatched_movie_list.reset_index(inplace = True)\n",
    "    recommendations = set()\n",
    "    \n",
    "    # compute similarity dictionary between target user and other others\n",
    "    user_similarity_dict = {}\n",
    "    v1 = movie_user_mat_sparse[:, UserID]   \n",
    "    for uid in range(1, len(df.UserID.unique())+1): \n",
    "        v2 = movie_user_mat_sparse[:, uid-1]\n",
    "        # calculate cosine similarity between the two users\n",
    "        sim = cosSim1(v1.T, v2)\n",
    "        user_similarity_dict[uid] = sim\n",
    "    # compute predicted rating for each new movie\n",
    "    ls_predicted_ratings = []\n",
    "    for i in range(df_unwatched_movie_list.shape[0]):\n",
    "        m = df_unwatched_movie_list.iloc[i, :][\"Title\"]\n",
    "        ls_sim = []\n",
    "        weighted_ratings_sum = 0\n",
    "        df_user_rating = df.loc[df.Title == m, :][[\"UserID\", \"Rating\"]]\n",
    "        df_user_rating.reset_index(inplace = True)\n",
    "        for i in range(df_user_rating.shape[0]):\n",
    "            cur_sim = user_similarity_dict[df_user_rating.iloc[i, :][\"UserID\"]]\n",
    "            cur_rating = df_user_rating.iloc[i, :][\"Rating\"]\n",
    "            ls_sim.append(cur_sim)\n",
    "            weighted_ratings_sum += cur_rating * cur_sim\n",
    "        predicted_rating = weighted_ratings_sum / sum(ls_sim)\n",
    "        ls_predicted_ratings.append([predicted_rating, m])\n",
    "    ls_predicted_ratings.sort(key = lambda x: x[0], reverse = True)\n",
    "    recommendations = []\n",
    "    for i in range(10):\n",
    "        recommendations.append(ls_predicted_ratings[i][1])\n",
    "    return recommendations"
   ]
  },
  {
   "cell_type": "code",
   "execution_count": 350,
   "id": "9c00f242",
   "metadata": {},
   "outputs": [],
   "source": [
    "rec = movieRecommender(df, 1)"
   ]
  },
  {
   "cell_type": "code",
   "execution_count": 351,
   "id": "bf2c6df0",
   "metadata": {},
   "outputs": [
    {
     "data": {
      "text/plain": [
       "['Schlafes Bruder (Brother of Sleep) (1995)',\n",
       " 'Ulysses (Ulisse) (1954)',\n",
       " 'Follow the Bitch (1998)',\n",
       " 'Smashing Time (1967)',\n",
       " 'Baby, The (1973)',\n",
       " 'Song of Freedom (1936)',\n",
       " 'One Little Indian (1973)',\n",
       " 'Lured (1947)',\n",
       " 'Bittersweet Motel (2000)',\n",
       " 'Gate of Heavenly Peace, The (1995)']"
      ]
     },
     "execution_count": 351,
     "metadata": {},
     "output_type": "execute_result"
    }
   ],
   "source": [
    "rec"
   ]
  },
  {
   "cell_type": "markdown",
   "id": "2ea514f0",
   "metadata": {},
   "source": [
    "### SVD"
   ]
  },
  {
   "cell_type": "code",
   "execution_count": 250,
   "id": "0361a0f9",
   "metadata": {},
   "outputs": [],
   "source": [
    "movie_user_mat = df_movie_features.values\n",
    "from numpy.linalg import svd\n",
    "U, sigma, V = svd(movie_user_mat, full_matrices = False)"
   ]
  },
  {
   "cell_type": "markdown",
   "id": "77b671d1",
   "metadata": {},
   "source": [
    "####  Calculate $\\sqrt{\\Sigma'}$"
   ]
  },
  {
   "cell_type": "code",
   "execution_count": 251,
   "id": "9324b3e5",
   "metadata": {},
   "outputs": [],
   "source": [
    "sqrt_sigma = np.diag(np.sqrt(sigma))"
   ]
  },
  {
   "cell_type": "markdown",
   "id": "bf62cee2",
   "metadata": {},
   "source": [
    "#### Calculate Movie Latent Feature Matrix"
   ]
  },
  {
   "cell_type": "code",
   "execution_count": 252,
   "id": "982eaa36",
   "metadata": {},
   "outputs": [
    {
     "data": {
      "text/plain": [
       "(3706, 3706)"
      ]
     },
     "execution_count": 252,
     "metadata": {},
     "output_type": "execute_result"
    }
   ],
   "source": [
    "movie_mat = np.dot(U, sqrt_sigma)\n",
    "movie_mat.shape"
   ]
  },
  {
   "cell_type": "code",
   "execution_count": 253,
   "id": "7c3c2b31",
   "metadata": {},
   "outputs": [
    {
     "data": {
      "text/plain": [
       "(3706, 6040)"
      ]
     },
     "execution_count": 253,
     "metadata": {},
     "output_type": "execute_result"
    }
   ],
   "source": [
    "user_weight_mat = np.dot(sqrt_sigma, V)\n",
    "user_weight_mat.shape"
   ]
  },
  {
   "cell_type": "code",
   "execution_count": 254,
   "id": "2de974a6",
   "metadata": {},
   "outputs": [],
   "source": [
    "def createMovieLists(df, UserID, movies = movie_dict):\n",
    "    df_temp = df.loc[df.UserID == UserID, :][[\"Title\", \"Rating\"]]\n",
    "    movies_seen = df_temp[\"Title\"].unique()\n",
    "    movies_seen_dict = {}\n",
    "    movies_not_seen_dict = {}\n",
    "    for title in movie_dict:\n",
    "        if title not in movies_seen:\n",
    "            movies_not_seen_dict[movie_dict[title]] = title\n",
    "        else:\n",
    "            movies_seen_dict[movie_dict[title]] = df_temp.loc[df_temp.Title == title, \"Rating\"].values[0]\n",
    "    return movies_seen_dict, movies_not_seen_dict"
   ]
  },
  {
   "cell_type": "code",
   "execution_count": 255,
   "id": "ca259d39",
   "metadata": {},
   "outputs": [],
   "source": [
    "def movieRecommender_SVD(df, UserID, movie_mat = movie_mat, user_weight_mat = user_weight_mat):\n",
    "    pred_ratings = []\n",
    "    movies_seen, movies_not_seen = createMovieLists(df, UserID)\n",
    "    for movie_idx in movies_not_seen:\n",
    "        pred_rating = np.inner(movie_mat[movie_idx, :], user_weight_mat[:, UserID])\n",
    "        pred_ratings.append([pred_rating, movies_not_seen[movie_idx]])\n",
    "    pred_ratings.sort(key = lambda x: x[0], reverse = True)\n",
    "    recommendations = []\n",
    "    for i in pred_ratings[:10]:\n",
    "        recommendations.append(i[1])\n",
    "        \n",
    "    # evaluation:\n",
    "    se = []\n",
    "    for movie_idx in movies_seen:\n",
    "        pred_rating = np.inner(movie_mat[movie_idx, :], user_weight_mat[:, UserID])\n",
    "        se_cur_movie = (pred_rating - movies_seen[movie_idx]) ** 2\n",
    "        se.append(se_cur_movie)\n",
    "    rmse = np.sqrt(np.mean(se))\n",
    "    return recommendations, rmse"
   ]
  },
  {
   "cell_type": "code",
   "execution_count": 256,
   "id": "d8a72322",
   "metadata": {},
   "outputs": [],
   "source": [
    "recommendations, rmse = movieRecommender_SVD(df, 1)"
   ]
  },
  {
   "cell_type": "code",
   "execution_count": 257,
   "id": "c81826d0",
   "metadata": {},
   "outputs": [
    {
     "data": {
      "text/plain": [
       "(['Forrest Gump (1994)',\n",
       "  'Few Good Men, A (1992)',\n",
       "  'Lethal Weapon 3 (1992)',\n",
       "  'Star Wars: Episode V - The Empire Strikes Back (1980)',\n",
       "  'Graduate, The (1967)',\n",
       "  'Hustler, The (1961)',\n",
       "  'Jurassic Park (1993)',\n",
       "  'Hunt for Red October, The (1990)',\n",
       "  'Shawshank Redemption, The (1994)',\n",
       "  'True Lies (1994)'],\n",
       " 0.9487666805628026)"
      ]
     },
     "execution_count": 257,
     "metadata": {},
     "output_type": "execute_result"
    }
   ],
   "source": [
    "recommendations, rmse"
   ]
  },
  {
   "cell_type": "code",
   "execution_count": null,
   "id": "76043c19",
   "metadata": {},
   "outputs": [],
   "source": []
  }
 ],
 "metadata": {
  "kernelspec": {
   "display_name": "Python 3 (ipykernel)",
   "language": "python",
   "name": "python3"
  },
  "language_info": {
   "codemirror_mode": {
    "name": "ipython",
    "version": 3
   },
   "file_extension": ".py",
   "mimetype": "text/x-python",
   "name": "python",
   "nbconvert_exporter": "python",
   "pygments_lexer": "ipython3",
   "version": "3.9.12"
  }
 },
 "nbformat": 4,
 "nbformat_minor": 5
}
